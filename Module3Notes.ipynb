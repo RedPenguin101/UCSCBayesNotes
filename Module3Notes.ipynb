{
 "cells": [
  {
   "cell_type": "markdown",
   "metadata": {},
   "source": [
    "# Module 3 Notes: Priors and models for discrete data\n",
    "\n",
    "## Contents\n",
    "Lesson 6: Priors\n",
    "* 6.1 Priors and prior predictive distributions\n",
    "* 6.2 Prior predictive: Binomial\n",
    "* 6.3 Posterior Predictive Distribution\n",
    "\n",
    "Lesson 7: Bernoulli/Binomial\n",
    "* 7.1 Ber/Bin with uniform prior\n",
    "* 7.2 Conjugate priors\n",
    "* 7.3 Posterior mean and effective sample size\n",
    "* data analysis in R and Excel\n",
    "\n",
    "Lesson 8: Poisson"
   ]
  },
  {
   "cell_type": "markdown",
   "metadata": {},
   "source": [
    "## Lesson 6 Priors\n",
    "### Lesson 6.1 Priors and prior predictive distributions\n",
    "How do we choose a prior? Needs to reflect\n",
    "* our beliefs\n",
    "* our personal perspective\n",
    "* our uncertainties\n",
    "\n",
    "**DGI** In effect, we are defining a CDF for the parameter: $P(\\theta \\le c)$ for all $c \\in R$\n",
    "\n",
    "But this isn't practical to do. In practice we work with a convinient family.\n",
    "\n",
    "The exact prior isn't actually super important. The prior will eventually be overwhelmed by data, so if you get it in the right ball park, the outcome will be about the same.\n",
    "\n",
    "But there are things that go wrong. If your prior is $P(\\theta = 0.5) = 1$, your posterior will just be: \n",
    "\n",
    "$$f(\\theta \\mid y) \\propto f(y\\mid\\theta)f(\\theta) = f(\\theta)$$\n",
    "\n",
    "If you are certain about your prior, no amount of data will change your view.\n",
    "\n",
    "#### Calibration of predictive intervals\n",
    "If we make an interval where we predict 95% of new data points will occur in this interval, it would be good if that actually happened. So how do we calibrate to reality? This is more of a frequentist concept, but it's useful in practice. We want to make sure our results reflect reality.\n",
    "\n",
    "Note this is an interval for the *data*, for Y, for X, not for $\\theta$.\n",
    "\n",
    "Start from our definition of $f(y)$. This is our **prior predictive** before we observe any data.\n",
    "\n",
    "$$f(y) = \\int f(y \\mid \\theta) f(\\theta) d\\theta = \\int f(y,\\theta) d\\theta$$\n",
    "\n",
    "That second part is taking the joint density for y and theta, integrating out theta to get the marginal density for y. Recall $P(A\\mid B) = \\frac{P(A \\cap B)}{P(B)}$, which in our terms for data analysis is $f(y\\mid \\theta) = \\frac{f(y,\\theta)}{f(\\theta)}$, so $f(y\\mid \\theta)\\cdot f(\\theta) = f(y,\\theta)$.\n"
   ]
  },
  {
   "cell_type": "markdown",
   "metadata": {},
   "source": [
    "### Lesson 6.2: Binomial Example of the Prior Predictive\n",
    "\n",
    "Suppose we are going to flip a coin 10 times and count the heads. Here we're not actually doing it, we're just thinking about it in advance of actually doing it. We're interested in the predictive distribution; how many head do we predict we're going to see? This is dependent on the fairness of the coin itself.\n",
    "\n",
    "We can say X is the sum of the results of the individual coin flips Y1 through Y10.\n",
    "\n",
    "$$X = \\sum_{i_i}^{10} Y_i$$\n",
    "\n",
    "Our prior $\\theta$ is our judgement of the probability that a flip of the coin will come up heads, ST $X \\sim Bin(\\theta)$. If we think that all possible probabilities (all possible coins) are equally likely, we can put a prior that's flat (uniform) over 0 to 1.\n",
    "\n",
    "$$f(\\theta) = I_{0 \\le \\theta \\le 1}$$\n",
    "\n",
    "So what's our predictive distribution for the number of heads we'll see, some number between 1 and 10?\n",
    "\n",
    "$$f(x) = \\int f(x \\mid \\theta) f(\\theta) d\\theta = \\int {10 \\choose x} \\theta^x (1-\\theta)^{10-x} I_{0\\le\\theta\\le 1} d\\theta = \\int_0^1 \\frac{10!}{x!(10-x)!} \\theta^x (1-\\theta)^{10-x} d\\theta $$"
   ]
  },
  {
   "cell_type": "markdown",
   "metadata": {},
   "source": [
    "(Note that here, because what we're interested in is $x$, we have to pay attention to the difference between a Bernoulli and a Binomial distribution. Previously we could basically ignore this because we were looking at $\\theta$, and the part of the integral that depends on theta is the same for both Bin and Ber.)"
   ]
  },
  {
   "cell_type": "markdown",
   "metadata": {},
   "source": [
    "Integrating this is kinda tough, have to pull out some real maths.\n",
    "\n",
    "Recall that $n! = \\Gamma(n+1)$, where the gamma function is a generalisation of factorial which can be used for non-integers.\n",
    "\n",
    "Also, if $Z \\sim Beta(\\alpha, \\beta)$, then the PDF of Z\n",
    "\n",
    "$$f(z) = \\frac{\\Gamma\\left(\\alpha + \\beta\\right)}{\\Gamma\\left(\\alpha\\right)\\Gamma\\left(\\beta\\right)}z^{\\alpha-1}(1-z)^{\\beta-1}$$\n",
    "\n",
    "And the CDF is:\n",
    "\n",
    "$$P(a \\lt Z \\lt b) = \\int_a^b \\frac{\\Gamma\\left(\\alpha + \\beta\\right)}{\\Gamma\\left(\\alpha\\right)\\Gamma\\left(\\beta\\right)}z^{\\alpha-1}(1-z)^{\\beta-1} dz$$"
   ]
  },
  {
   "cell_type": "markdown",
   "metadata": {},
   "source": [
    "Integrating this function wrt Z over the interval 0,1 is exactly equivalent to the CDF of the Beta function with $P(0 \\lt Z \\lt 1)$, or in other words 1."
   ]
  },
  {
   "cell_type": "markdown",
   "metadata": {},
   "source": [
    "We can take advantage of this by reformulating f(x) to look like a beta distribution.\n",
    "\n",
    "$$f(x) = \\int_0^1 \\frac{\\Gamma(11)}{\\Gamma(x+1)\\Gamma(11-x)} \\theta^{(x+1)-1} (1-\\theta)^{(11-x)-1} d\\theta $$\n",
    "\n",
    "$$ = \\frac{\\Gamma(11)}{\\Gamma(12)} \\int_0^1 \\frac{\\Gamma(12)}{\\Gamma(x+1)\\Gamma(11-x)} \\theta^{(x+1)-1} (1-\\theta)^{(11-x)-1} d\\theta $$"
   ]
  },
  {
   "cell_type": "markdown",
   "metadata": {},
   "source": [
    "so here $x+1 = \\alpha$ and $11-x = \\beta$, and everything in the integral =1.\n",
    "\n",
    "so $$f(x) = \\frac{\\Gamma(11)}{\\Gamma{12}} = \\frac{10!}{11!} = \\frac{1}{11} \\text{ for } x \\in \\{0,1,\\dots,10\\}$$"
   ]
  },
  {
   "cell_type": "markdown",
   "metadata": {},
   "source": [
    "so if you start with a uniform prior you end up with a discrete and uniform predictive density for x. This makes intuitive sense: if all coins are equally likely, then all possible outcomes of the experiment should be equally likely."
   ]
  },
  {
   "cell_type": "markdown",
   "metadata": {},
   "source": [
    "### Lesson 6.3: Posterior predictive distribution \n",
    "\n",
    "What about after we've observed?\n",
    "\n",
    "Suppose we have a coin, we don't know what the probability is it will come up heads. We observe a head on the first flip. What's our predictive distribution for 2nd flip, given we saw a head on the 1st flip? \n",
    "\n",
    "$$f(y_2 \\mid y_1) = \\int f(y_2 \\mid \\theta,y_1) f(\\theta \\mid y_1) d\\theta$$\n",
    "\n",
    "Note we're treating Y2 as independent from Y1, implies we can simplify to \n",
    "\n",
    "$$f(y_2 \\mid y_1) = \\int f(y_2 \\mid \\theta) f(\\theta \\mid y_1) d\\theta$$\n",
    "\n",
    "This looks very similar to the prior predictive except we're using the posterior distribution for theta instead of the prior.\n",
    "\n",
    "The prediction for y2 is no longer going to be a uniform distribution because we have some data, 1 head.\n",
    "\n",
    "$$f(y_2 \\mid Y_1 = 1) = \\int_0^1 \\theta^{y_2}(1-\\theta)^{1-y_2} 2\\theta d\\theta = \\int_0^1 2\\theta^{y_2+1}(1-\\theta)^{1-y_2} d\\theta$$\n",
    "\n",
    "(Note: see earlier example for proof that $f(\\theta \\mid X = 1)$ with uniform $f(\\theta)$ prior and Bernoulli $X$ is $2\\theta$"
   ]
  },
  {
   "cell_type": "markdown",
   "metadata": {},
   "source": [
    "Again, general case is tough to compute, and we only have 2 outcomes, $y_2 \\in 0,1$, so plop in $y_2 = 1$.\n",
    "\n",
    "$$f(Y_2 = 1 \\mid Y_1 = 1) = \\int_0^1 2\\theta^{2} d\\theta = \\left[\\frac{2}{3}\\theta^3\\right]_0^1 = \\frac{2}{3}$$\n",
    "\n",
    "$$f(Y_2 = 0 \\mid Y_1 = 1) = \\frac{1}{3}$$\n",
    "\n",
    "In effect this posterior predictive is a combination of information in the prior (with uniform here being equivalent to saying we have observed 1 head and 1 tail) and the data (1 head). From an informational perspective we've seen 2 heads and 1 tail, so our prediction is that there's a 2/3rds probability we will get another head."
   ]
  },
  {
   "cell_type": "markdown",
   "metadata": {},
   "source": [
    "**Miniquiz** What is the key difference between prior predictive and posterior predictive distributions? Assume that the data $Y_1, \\ldots, Y_n$ are independent.\n",
    "\n",
    "* The prior predictive is useful in selecting priors and the posterior predictive is useful in selecting posterior distributions.\n",
    "* *The prior predictive averages (marginalizes) over $\\theta$ with respect to the prior while the posterior predictive averages with respect to the posterior.*\n",
    "* The prior predictive is continuous while the posterior predictive is discrete.\n",
    "* The prior predictive is a function of $\\theta$ and the posterior predictive is a function of $Y$."
   ]
  },
  {
   "cell_type": "markdown",
   "metadata": {},
   "source": [
    "### Lesson 6 Quiz\n",
    "\n",
    "Suppose you are trying to calibrate a thermometer by testing the temperature it reads when water begins to boil. Because of natural variation, you take several measurements (experiments) to estimate $\\theta$, the mean temperature reading for this thermometer at the boiling point.\n",
    "\n",
    "You know that at sea level, water should boil at 100 degrees Celsius, so you use a precise prior with $P(\\theta = 100) = 1$. You then observe the following five measurements: 94.6 95.4 96.2 94.9 95.9.\n",
    "\n",
    "What will the posterior for $\\theta$ look like?\n",
    "\n",
    "* Most posterior probability will be concentrated near the sample mean of 95.4 degrees Celsius.\n",
    "* Most posterior probability will be spread between the sample mean of 95.4 degrees Celsius and the prior mean of 100 degrees Celsius.\n",
    "* *The posterior will be $\\theta = 100$ with probability 1, regardless of the data.*\n",
    "* None of the above."
   ]
  },
  {
   "cell_type": "markdown",
   "metadata": {},
   "source": [
    "## Lesson 7.1: Bernoulli / Binomial with Uniform Prior\n",
    "\n",
    "As we saw in the last example, when you use a Uniform Prior you get a Beta Posterior. As a summary of what we just did:\n",
    "\n",
    "$$f(\\tilde{y} \\mid \\theta) = \\theta^{\\sum y_i} (1-\\theta)^{n-\\sum y_i}$$\n",
    "\n",
    "$$f(\\theta) = I_{0\\lt \\theta \\lt 1}$$\n",
    "\n",
    "\n",
    "$$f(\\theta \\mid \\tilde{y}) = \\frac{\\theta^{\\sum y_i} (1-\\theta)^{n-\\sum y_i} I_{0\\lt\\theta\\lt 1}}{\\int_0^1 \\theta^{\\sum y_i} (1-\\theta)^{n-\\sum y_i} d\\theta}$$\n",
    "\n",
    "We solved that integral by recognising that it's the kernal of a Beta distribution\n",
    "\n",
    "$$f(\\theta \\mid \\tilde{y}) = \\frac{\\theta^{\\sum y_i} (1-\\theta)^{n-\\sum y_i} I_{0\\lt\\theta\\lt 1}}{\\frac{\\Gamma\\left(\\sum y_i +1\\right)\\Gamma\\left(n-\\sum y_i +1\\right)}{\\Gamma\\left(n+2\\right)} \\int_0^1 \\frac{\\Gamma \\left(n+2\\right)}{\\Gamma\\left(\\sum y_i +1\\right)\\Gamma\\left(n-\\sum y_i +1\\right)} \\theta^{\\sum y_i} (1-\\theta)^{n-\\sum y_i} d\\theta}$$\n",
    "\n",
    "$$f(\\theta \\mid \\tilde{y}) = \\frac{\\Gamma\\left(n+2\\right)}{\\Gamma\\left(\\sum y_i +1\\right)\\Gamma\\left(n-\\sum y_i +1\\right)} \\theta^{\\sum y_i} (1-\\theta)^{n-\\sum y_i} I_{0\\lt\\theta\\lt 1}$$\n",
    "\n",
    "$$\\theta \\mid \\tilde{y} \\sim Beta\\left(\\sum y_i +1, n- \\sum y_i + 1\\right)$$"
   ]
  },
  {
   "cell_type": "markdown",
   "metadata": {},
   "source": [
    "## Lesson 7.2: Conjugate Priors\n",
    "More generally, the uniform distribution is the Beta 1,1, and any Beta distribution is conjugate for the Bernoulli distribution. Any Beta prior will result in a Beta posterior\n",
    "\n",
    "$$f(\\theta) = \\frac{\\Gamma(\\alpha + \\beta)}{\\Gamma(\\alpha)\\Gamma(\\beta)} \\theta^{\\alpha-1} (1-\\theta)^{\\beta-1} I_{0\\lt\\theta\\lt 1}$$\n",
    "\n",
    "$$f(\\theta \\mid \\tilde{y}) \\propto f(\\tilde{y} \\mid {\\theta}) f(\\theta) = \\theta^{\\Sigma y_i} (1-\\theta)^{n-\\Sigma y_i} \\frac{\\Gamma(\\alpha + \\beta)}{\\Gamma(\\alpha)\\Gamma(\\beta)} \\theta^{\\alpha-1} (1-\\theta)^{\\beta-1} I_{0\\lt\\theta\\lt 1}$$\n",
    "\n",
    "(since we're working with proportionality we can drop the constant terms and collect $\\theta$s)\n",
    "\n",
    "$$\\propto \\theta^{\\alpha+\\Sigma y_i -1} (1-\\theta)^{\\beta + n-\\Sigma y_i -1}  I_{0\\lt\\theta\\lt 1}$$\n",
    "\n",
    "$$ \\theta \\mid \\tilde{y} \\sim Beta\\left(\\alpha+\\Sigma y_i, \\beta+n-\\Sigma y_i\\right)$$\n",
    "\n",
    "Note when alpha and beta are 1 (i.e. the prior is a uniform 0,1 distribution) we get the result from 7.1.\n",
    "\n"
   ]
  },
  {
   "cell_type": "markdown",
   "metadata": {},
   "source": [
    "Starting with a Beta prior and getting a Beta Posterior is convenient. \n",
    "\n",
    "The process of picking a prior which works well with the distirbution of the likelihood (here Bernoulli) is called using a **conjugate family**. Families are conjugate when, if you use that distribution as a prior, you get another of those  distributions as the posterior.\n",
    "\n",
    "We use CPs because they make life much more simple. Otherwise the integral gets super complicated. If the family you are picking as your priors is flexible you will be able to find a prior that represents your beliefs.\n",
    "\n",
    "$$Y_1,\\dots,Y_n \\sim B\\left(\\theta\\right)$$\n",
    "\n",
    "$$\\theta \\mid \\alpha, \\beta \\sim Beta\\left(\\alpha, \\beta \\right)$$\n",
    "\n",
    "$$\\alpha,\\beta = \\alpha_0,\\beta_0$$\n",
    "\n",
    "We refer to alpha and beta as **hyperparameters**.\n",
    "\n",
    "Typically here we will just be assigning values to alpha and beta, but you can, inception style, go deeper, and assign probability distributions (i.e. priors) to alpha and beta. In practice, since prior doesn't matter too too much, it usually doesn't add much value. It's beyond the scope of this course. "
   ]
  },
  {
   "cell_type": "markdown",
   "metadata": {},
   "source": [
    "## Lesson 7.3 Posterior Mean and Effective Sample Size\n",
    "\n",
    "Recall that our posterior for a Beta prior on a Bernoulli likelihood is\n",
    "\n",
    "$$ \\theta \\mid \\tilde{y} \\sim Beta\\left(\\alpha+\\Sigma y_i, \\beta+n-\\Sigma y_i\\right)$$\n",
    "\n",
    "It's clear here the contribution the prior and data are contributing.\n",
    "\n",
    "For a Prior $Beta(\\alpha, \\beta)$, the effective sample size is $\\alpha+\\beta$. Proof:\n",
    "\n",
    "Since the mean of Beta is $\\frac{\\alpha}{\\alpha+\\beta}$, the mean of the posterior is\n",
    "\n",
    "$$\\frac{\\alpha+\\Sigma y_i}{\\alpha+\\Sigma y_i+\\beta+n-\\Sigma y_i}=\\frac{\\alpha+\\Sigma y_i}{\\alpha+\\beta+n}$$\n",
    "\n",
    "$$= \\frac{\\alpha+\\beta}{\\alpha+\\beta+n}\\cdot\\frac{\\alpha}{\\alpha+\\beta}+\\frac{n}{\\alpha+\\beta+n}\\cdot\\frac{\\Sigma y_i}{n}$$\n",
    "\n",
    "$$= \\text{prior weight x prior mean + data weight x data mean}$$\n",
    "\n",
    "Note two weights add up to 1, hence why they are weights. Note also that in the data part of the equation, the sample size $n$ is the numerator of the weight, so the effective sample size of the prior must be in the same place, hence $\\alpha + \\beta$.\n",
    "\n",
    "You could interpret a Beta prior as an assumed number of successes (alpha) and failures (beta) in a binomial distribution."
   ]
  },
  {
   "cell_type": "markdown",
   "metadata": {},
   "source": [
    "From this we can infer how much data we would need so that our prior doesn't have too much influence on the posterior. you want $\\alpha+\\beta$ to be small compared to $n$.\n",
    "\n",
    "Recall a 95% freqentist confidence interval is $\\hat{\\theta} \\pm 1.96 \\sqrt{\\frac{\\hat{\\theta}\\left(1-\\hat{\\theta}\\right)}{n}}$.\n",
    "\n",
    "In Bayesian we can find a 95% credible interval using our posterior. We would use a computer package to fund the interval values numerical. We can make a probability statement that theta is in the interval (unlike with FCI).\n",
    "\n",
    "### Sequential Analysis\n",
    "\n",
    "Simple in Bayesian\n",
    "\n",
    "suppose we start with a prior $f(\\theta)$ and observe $n$ data points $y_1,\\dots,\\y_n$.\n",
    "\n",
    "Our posterior is $f(\\theta \\mid y_1,\\dots,y_n)$\n",
    "\n",
    "The next day we observe $m$ more data points, $y_{n+1},\\dots,y_{n+m}$\n",
    "\n",
    "We can update again, by treating the posterior as todays prior\n",
    "\n",
    "Our new posterior is $f(\\theta \\mid y_1,\\dots,y_{n+m})$\n",
    "\n",
    "We can iterate this process. Mathematically, we get the same answer with a sequential 'two step' process as if we have observed all $n+m$ data points on the first day. This is very different to the frquentist approach, you can't do sequential updates, you'll get different answers. \n",
    "\n",
    "This ability to make sequential updates makes Bayesian super useful in the real world."
   ]
  },
  {
   "cell_type": "markdown",
   "metadata": {},
   "source": [
    "## Lesson 7.4: Beta/Binomial analysis in R (or Python for me)\n",
    "\n",
    "Suppose we giving two students a MChoice exam with 40 Qs, each Q has 4 choices. We don't know how much they've studies but we think they will do better than just guessing.\n",
    "\n",
    "1. What are our parameters of interest?\n",
    "2. What is our likelihood?\n",
    "3. What prior should we use?\n",
    "4. What is the prior prob p(theta >.25) (ie. random guess)? P(>.5)? p(theta >.8)?\n",
    "5. The first student gets 33 Qs right. What is our posterior theta1? P(>.25)? P(>.5)? P(>.8)? what is a 95% posterior credible interval?\n",
    "6. The 2nd student gets 24 right. What is posterior theta2?  P(>.25)? P(>.5)? P(>.8)? what is a 95% posterior credible interval?\n",
    "7. What is the posterior probability that theta1>theta2, i.e. that the first student has a better chance of getting a question right than the second? "
   ]
  },
  {
   "cell_type": "markdown",
   "metadata": {},
   "source": [
    "POI are $\\theta_1$ = true probability that the first student will answer a question correctly, and $\\theta_2$ = true probability that the first student will answer a question correctly.\n",
    "\n",
    "Likelihood is $Bin(40,\\theta)$. Assumptions: questions are independent and the probability that a student gets the answer right is the same for all questions.\n",
    "\n",
    "Use a Beta prior fo conjugality. We think they will do better than randomly, so prior mean should be above .25. Let it be bigger than a half, maybe 2/3. \n",
    "\n",
    "Start by plotting possible dists for prior"
   ]
  },
  {
   "cell_type": "code",
   "execution_count": 1,
   "metadata": {},
   "outputs": [],
   "source": [
    "import numpy as np\n",
    "import matplotlib.pyplot as plt\n",
    "from scipy.stats import beta\n",
    "plt.style.use('classic')"
   ]
  },
  {
   "cell_type": "code",
   "execution_count": 2,
   "metadata": {},
   "outputs": [
    {
     "data": {
      "image/png": "[encoded data removed]",
      "text/plain": [
       "<Figure size 1440x360 with 4 Axes>"
      ]
     },
     "metadata": {
      "needs_background": "light"
     },
     "output_type": "display_data"
    }
   ],
   "source": [
    "theta = np.linspace(0,1,101)\n",
    "\n",
    "fig, axarr = plt.subplots(1,4, figsize=(20, 5))\n",
    "axarr[0].plot(theta, beta.pdf(theta,1,1)) # a uniform prior\n",
    "axarr[1].plot(theta, beta.pdf(theta,4,2)) # 2/3 prior mean with small sample size 6\n",
    "axarr[2].plot(theta, beta.pdf(theta,8,4)) # 2/3 prior mean with small larger size 12\n",
    "axarr[3].plot(theta, beta.pdf(theta,4,4)) # .05 prior\n",
    "plt.show()"
   ]
  },
  {
   "cell_type": "markdown",
   "metadata": {},
   "source": [
    "We'll use Beta(8,4) as our prior.\n",
    "\n",
    "What are the probalities under our prior? >.25, .5 and .8"
   ]
  },
  {
   "cell_type": "code",
   "execution_count": 3,
   "metadata": {},
   "outputs": [
    {
     "data": {
      "text/plain": [
       "(0.9988117218017578, 0.88671875, 0.16113919999999993)"
      ]
     },
     "execution_count": 3,
     "metadata": {},
     "output_type": "execute_result"
    }
   ],
   "source": [
    "a = 1 - beta.cdf(.25,8,4)\n",
    "b = 1 - beta.cdf(.5,8,4)\n",
    "c = 1 - beta.cdf(.8,8,4)\n",
    "(a,b,c)"
   ]
  },
  {
   "cell_type": "markdown",
   "metadata": {},
   "source": [
    "collecting data, student1 answers 40 qs and gets 33 right. What's our posterior?\n",
    "\n",
    "Beta(8+33 = 41, 4+7 = 11)\n",
    "\n",
    "Posteriors:"
   ]
  },
  {
   "cell_type": "code",
   "execution_count": 4,
   "metadata": {},
   "outputs": [
    {
     "name": "stdout",
     "output_type": "stream",
     "text": [
      "0.7884615384615384\n",
      "0.825\n"
     ]
    }
   ],
   "source": [
    "print(41/(41+11)) # posterior mean\n",
    "print(33/40) # MLE"
   ]
  },
  {
   "cell_type": "code",
   "execution_count": 5,
   "metadata": {},
   "outputs": [
    {
     "data": {
      "image/png": "[encoded data removed]",
      "text/plain": [
       "<Figure size 504x216 with 2 Axes>"
      ]
     },
     "metadata": {
      "needs_background": "light"
     },
     "output_type": "display_data"
    }
   ],
   "source": [
    "from scipy.stats import binom\n",
    "X = [x for x in range(0,44)]\n",
    "# plotting the prior, the posterior and the likelihood\n",
    "fig, axarr = plt.subplots(1,2, figsize=(7, 3))\n",
    "axarr[0].plot(theta, beta.pdf(theta,8,4)) \n",
    "axarr[0].plot(theta, beta.pdf(theta,41,11)) \n",
    "axarr[1].plot(theta, beta.pdf(theta,8,4)) \n",
    "axarr[1].plot(theta, beta.pdf(theta,41,11)) \n",
    "axarr[1].plot(theta, binom.pmf(33,40,theta)*44) \n",
    "plt.show()\n",
    "# axes 1 shows prior vs posterior, axes 2 shows posterior vs (scaled) likelihood function of theta under binomial distr. \n",
    "# Note posterior is 'between' the prior and likelihood because it incorporates info from both. It's more weighted to the \n",
    "# likelihood, since n=40, prior sample size was 12"
   ]
  },
  {
   "cell_type": "markdown",
   "metadata": {},
   "source": [
    "What are the probalities under our Posterior? >.25, .5 and .8"
   ]
  },
  {
   "cell_type": "code",
   "execution_count": 6,
   "metadata": {},
   "outputs": [
    {
     "data": {
      "text/plain": [
       "(0.9999999999999999, 0.9999926311420575, 0.44440438256879644)"
      ]
     },
     "execution_count": 6,
     "metadata": {},
     "output_type": "execute_result"
    }
   ],
   "source": [
    "a = 1 - beta.cdf(.25,41,11)\n",
    "b = 1 - beta.cdf(.5,41,11)\n",
    "c = 1 - beta.cdf(.8,41,11)\n",
    "(a,b,c)"
   ]
  },
  {
   "cell_type": "code",
   "execution_count": 7,
   "metadata": {},
   "outputs": [
    {
     "data": {
      "text/plain": [
       "(0.6688426487470713, 0.8871094002502565)"
      ]
     },
     "execution_count": 7,
     "metadata": {},
     "output_type": "execute_result"
    }
   ],
   "source": [
    "# What is the 95% equal tailed credible interval?\n",
    "(beta.ppf(.025,41,11),beta.ppf(.975,41,11)) # note ppf is the equivalent of qbeta in R"
   ]
  },
  {
   "cell_type": "markdown",
   "metadata": {},
   "source": [
    "The 2nd student gets 24 right. What is posterior theta2?  P(>.25)? P(>.5)? P(>.8)? what is a 95% posterior credible interval?"
   ]
  },
  {
   "cell_type": "code",
   "execution_count": 8,
   "metadata": {},
   "outputs": [
    {
     "data": {
      "text/plain": [
       "(32, 20)"
      ]
     },
     "execution_count": 8,
     "metadata": {},
     "output_type": "execute_result"
    }
   ],
   "source": [
    "(8+24,4+(40-24))"
   ]
  },
  {
   "cell_type": "code",
   "execution_count": 9,
   "metadata": {},
   "outputs": [
    {
     "name": "stdout",
     "output_type": "stream",
     "text": [
      "0.6153846153846154\n",
      "0.6\n",
      "(0.9999999863130408, 0.9540427250920729, 0.001248189858039872)\n",
      "(0.4808021582419634, 0.7415563647178172)\n"
     ]
    }
   ],
   "source": [
    "print(32/(32+20)) # posterior mean\n",
    "print(24/40) # MLE\n",
    "\n",
    "a = 1 - beta.cdf(.25,32,20)\n",
    "b = 1 - beta.cdf(.5,32,20)\n",
    "c = 1 - beta.cdf(.8,32,20)\n",
    "\n",
    "print((a,b,c))\n",
    "print((beta.ppf(.025,32,20),beta.ppf(.975,32,20)))"
   ]
  },
  {
   "cell_type": "code",
   "execution_count": 10,
   "metadata": {},
   "outputs": [
    {
     "data": {
      "image/png": "[encoded data removed]",
      "text/plain": [
       "<Figure size 504x216 with 2 Axes>"
      ]
     },
     "metadata": {
      "needs_background": "light"
     },
     "output_type": "display_data"
    }
   ],
   "source": [
    "theta = np.linspace(0,1,101)\n",
    "X = [x for x in range(0,44)]\n",
    "# plotting the prior, the posterior and the likelihood\n",
    "fig, axarr = plt.subplots(1,2, figsize=(7, 3))\n",
    "axarr[0].plot(theta, beta.pdf(theta,8,4)) \n",
    "axarr[0].plot(theta, beta.pdf(theta,32,20)) \n",
    "axarr[1].plot(theta, beta.pdf(theta,8,4)) \n",
    "axarr[1].plot(theta, beta.pdf(theta,32,20)) \n",
    "axarr[1].plot(theta, binom.pmf(24,40,theta)*44) \n",
    "plt.show()"
   ]
  },
  {
   "cell_type": "markdown",
   "metadata": {},
   "source": [
    "What is the posterior probability that theta1>theta2, i.e. that the first student has a better chance of getting a question right than the second? \n",
    "\n",
    "This is tough to do alebraically, so we're going to do it by simulation.\n",
    "Draw 1000 samples from each and see how often we observe theta1>theta2"
   ]
  },
  {
   "cell_type": "code",
   "execution_count": 11,
   "metadata": {},
   "outputs": [
    {
     "data": {
      "text/plain": [
       "0.9739"
      ]
     },
     "execution_count": 11,
     "metadata": {},
     "output_type": "execute_result"
    }
   ],
   "source": [
    "r1 = beta.rvs(41,11,size=10000)\n",
    "r2 = beta.rvs(32,20,size=10000)\n",
    "np.mean(r1>r2)"
   ]
  },
  {
   "cell_type": "markdown",
   "metadata": {},
   "source": [
    "## Lesson 7 Quiz\n",
    "\n",
    "For Questions 1-5, consider the example of flipping a coin with unknown probability of heads $\\theta$:\n",
    "\n",
    "Suppose we use a Bernoulli likelihood for each coin flip, i.e., $f(y_i \\mid \\theta) = \\theta^{y_i} (1-\\theta)^{1-y_i} I_{\\{ 0 \\le \\theta \\le 1 \\}}$ for $y_i=0$ or $y_i = 1$, and a uniform prior for $\\theta$\n",
    "\n",
    "### Q1\n",
    "\n",
    "What is the posterior distribution for $\\theta$ if we observe the following sequence: (T, T, T, T) where H denotes heads $(Y=1)$ and T denotes tails $(Y=0)$?"
   ]
  },
  {
   "cell_type": "markdown",
   "metadata": {},
   "source": [
    "For Bernoulli experiments with a uniform prior, our posterior is:\n",
    "\n",
    "$$\\theta \\mid \\tilde{y} \\sim Beta(1 + \\Sigma y_i, 1 + n - \\Sigma y_i)$$\n",
    "\n",
    "So here it's $Beta(1,5)$."
   ]
  },
  {
   "cell_type": "markdown",
   "metadata": {},
   "source": [
    "### Q2\n",
    "What graph depicts the posterior PDF of $\\theta$ if we observe the sequence (T, T, T, T)? (You may want to use R or Excel to plot the posterior.)"
   ]
  },
  {
   "cell_type": "code",
   "execution_count": 12,
   "metadata": {},
   "outputs": [
    {
     "data": {
      "image/png": "[encoded data removed]",
      "text/plain": [
       "<Figure size 432x288 with 1 Axes>"
      ]
     },
     "metadata": {
      "needs_background": "light"
     },
     "output_type": "display_data"
    }
   ],
   "source": [
    "# imports\n",
    "import numpy as np\n",
    "import matplotlib.pyplot as plt\n",
    "from scipy.stats import beta\n",
    "from scipy.stats import binom\n",
    "\n",
    "# create a linearspace for theta and do the beta function\n",
    "theta = np.linspace(0,1,101)\n",
    "ftheta = beta.pdf(theta, 1,5)\n",
    "\n",
    "# plot\n",
    "plt.plot(theta, ftheta)\n",
    "plt.show()"
   ]
  },
  {
   "cell_type": "markdown",
   "metadata": {},
   "source": [
    "### Q3\n",
    "What is the maximum likelihood estimate (MLE) of $\\theta$ if we observe the sequence (T, T, T, T)?"
   ]
  },
  {
   "cell_type": "markdown",
   "metadata": {},
   "source": [
    "Recall $L(\\theta \\mid \\tilde{x}) = \\prod_{i=0}^n P(x_i \\mid \\theta)$.\n",
    "\n",
    "For a bernoulli distribution this is:\n",
    "\n",
    "$$L(\\theta \\mid \\tilde{x}) = \\prod_{i=0}^n \\theta^{x_i} (1-\\theta)^{1-x_i} = 4(1-\\theta)$$\n",
    "\n",
    "Likelyhood is maximised here when $\\hat{\\theta}=0$\n",
    "\n",
    "Which ties with the above plot. "
   ]
  },
  {
   "cell_type": "markdown",
   "metadata": {},
   "source": [
    "### Q4\n",
    "What is the posterior mean estimate of $\\theta$ if we observe the sequence (T, T, T, T)? Round your answer to two decimal places."
   ]
  },
  {
   "cell_type": "markdown",
   "metadata": {},
   "source": [
    "$$\\frac{\\alpha+\\beta}{\\alpha+\\beta+n} \\cdot \\frac{\\alpha}{\\alpha+\\beta} + \\frac{n}{\\alpha+\\beta+n} \\cdot \\frac{\\Sigma y_i}{n} = \\frac{2}{6} \\frac{1}{2}  + \\frac{4}{6} \\frac{0}{4} = \\frac{1}{6} = 0.17$$"
   ]
  },
  {
   "cell_type": "code",
   "execution_count": 13,
   "metadata": {},
   "outputs": [
    {
     "data": {
      "image/png": "[encoded data removed]",
      "text/plain": [
       "<Figure size 432x288 with 1 Axes>"
      ]
     },
     "metadata": {
      "needs_background": "light"
     },
     "output_type": "display_data"
    }
   ],
   "source": [
    "theta = np.linspace(0,1,101)\n",
    "plt.plot(theta, binom.pmf(0,4,theta)*5)\n",
    "plt.plot(theta, beta.pdf(theta, 1,1))\n",
    "plt.plot(theta, beta.pdf(theta, 1,5))\n",
    "plt.show()"
   ]
  },
  {
   "cell_type": "markdown",
   "metadata": {},
   "source": [
    "### Q5\n",
    "Use R or Excel to find the posterior probability that $\\theta < 0.5$ if we observe the sequence (T,T,T,T). Round your answer to two decimal places."
   ]
  },
  {
   "cell_type": "code",
   "execution_count": 14,
   "metadata": {},
   "outputs": [
    {
     "data": {
      "text/plain": [
       "0.96875"
      ]
     },
     "execution_count": 14,
     "metadata": {},
     "output_type": "execute_result"
    }
   ],
   "source": [
    "beta.cdf(0.5,1,5)"
   ]
  },
  {
   "cell_type": "markdown",
   "metadata": {},
   "source": [
    "For Questions 6-9, consider the following scenario:\n",
    "\n",
    "An engineer wants to assess the reliability of a new chemical refinement process by measuring $\\theta$, the proportion of samples that fail a battery of tests. These tests are expensive, and the budget only allows 20 tests on randomly selected samples. Assuming each test is independent, she assigns a binomial likelihood where $X$ counts the samples which fail. Historically, new processes pass about half of the time, so she assigns a Beta(2,2) prior for $\\theta$ (prior mean 0.5 and prior sample size 4). The outcome of the tests is 6 fails and 14 passes.\n",
    "\n",
    "### Q6 \n",
    "What is the posterior distribution for $\\theta$?"
   ]
  },
  {
   "cell_type": "markdown",
   "metadata": {},
   "source": [
    "Beta(8,16)"
   ]
  },
  {
   "cell_type": "markdown",
   "metadata": {},
   "source": [
    "### Q7\n",
    "Use R or Excel to calculate the upper end of an equal-tailed 95% credible interval for $\\theta$. Round your answer to two decimal places.\n",
    "\n"
   ]
  },
  {
   "cell_type": "code",
   "execution_count": 15,
   "metadata": {},
   "outputs": [
    {
     "data": {
      "image/png": "[encoded data removed]",
      "text/plain": [
       "<Figure size 432x288 with 1 Axes>"
      ]
     },
     "metadata": {
      "needs_background": "light"
     },
     "output_type": "display_data"
    }
   ],
   "source": [
    "plt.plot(theta, beta.pdf(theta,8,16))\n",
    "plt.show()"
   ]
  },
  {
   "cell_type": "code",
   "execution_count": 16,
   "metadata": {},
   "outputs": [
    {
     "data": {
      "text/plain": [
       "(0.16376359837494986, 0.5291916660085065)"
      ]
     },
     "execution_count": 16,
     "metadata": {},
     "output_type": "execute_result"
    }
   ],
   "source": [
    "(beta.ppf(0.025,8,16),beta.ppf(0.975,8,16))"
   ]
  },
  {
   "cell_type": "markdown",
   "metadata": {},
   "source": [
    "### Q8\n",
    "The engineer tells you that the process is considered promising and can proceed to another phase of testing if we are 90% sure that the failure rate is less than .35.\n",
    "\n",
    "Calculate the posterior probability $P(\\theta < .35 \\mid x)$. In your role as the statistician, would you say that this new chemical should pass?\n",
    "\n"
   ]
  },
  {
   "cell_type": "code",
   "execution_count": 17,
   "metadata": {},
   "outputs": [
    {
     "data": {
      "text/plain": [
       "0.5864310314450809"
      ]
     },
     "execution_count": 17,
     "metadata": {},
     "output_type": "execute_result"
    }
   ],
   "source": [
    "beta.cdf(0.35,8,16)"
   ]
  },
  {
   "cell_type": "markdown",
   "metadata": {},
   "source": [
    "### Q9\n",
    "It is discovered that the budget will allow five more samples to be tested. These tests are conducted and none of them fail.\n",
    "\n",
    "Calculate the new posterior probability $P(\\theta < .35 \\mid x_1, x_2)$. In your role as the statistician, would you say that this new chemical should pass (with the same requirement as in the previous question)?\n",
    "\n",
    "Hint: You can use the posterior from the previous analysis as the prior for this analysis. Assuming independence of tests, this yields the same posterior as the analysis in which we begin with the Beta(2,2) prior and use all 25 tests as the data."
   ]
  },
  {
   "cell_type": "markdown",
   "metadata": {},
   "source": [
    "The new posterior $\\theta_2$ is Beta(8,16+5)"
   ]
  },
  {
   "cell_type": "code",
   "execution_count": 18,
   "metadata": {},
   "outputs": [
    {
     "data": {
      "image/png": "[encoded data removed]",
      "text/plain": [
       "<Figure size 432x288 with 1 Axes>"
      ]
     },
     "metadata": {
      "needs_background": "light"
     },
     "output_type": "display_data"
    }
   ],
   "source": [
    "plt.plot(theta, beta.pdf(theta,8,21))\n",
    "plt.show()"
   ]
  },
  {
   "cell_type": "code",
   "execution_count": 19,
   "metadata": {},
   "outputs": [
    {
     "data": {
      "text/plain": [
       "0.8179064455690616"
      ]
     },
     "execution_count": 19,
     "metadata": {},
     "output_type": "execute_result"
    }
   ],
   "source": [
    "beta.cdf(0.35,8,21)"
   ]
  },
  {
   "cell_type": "markdown",
   "metadata": {},
   "source": [
    "### Q10\n",
    "Let $X \\mid \\theta \\sim \\text{Binomial}(9, \\theta)$ and assume a $\\text{Beta}(\\alpha, \\beta)$ prior for $\\theta$. Suppose your prior guess (prior expectation) for $\\theta$ is 0.4 and you wish to use a prior effective sample size of 5, what values of $\\alpha$ and $\\beta$ should you use?"
   ]
  },
  {
   "cell_type": "code",
   "execution_count": 20,
   "metadata": {},
   "outputs": [
    {
     "data": {
      "text/plain": [
       "(2.0, 3.0)"
      ]
     },
     "execution_count": 20,
     "metadata": {},
     "output_type": "execute_result"
    }
   ],
   "source": [
    "(0.4*5,0.6*5)"
   ]
  },
  {
   "cell_type": "markdown",
   "metadata": {},
   "source": [
    "## Lesson 8.1: Poisson Data\n",
    "Consider chocolcate chips in cookies. They make a bunch of dough, mix in chips, and divide it into cookies. The number of chips per cookie follows an approximately Poisson distribution (it would be perfectly Poisson if the chips had no volume). \n",
    "\n",
    "$ Y-i \\sim Pois(\\lambda)$, the likelyhood function is \n",
    "\n",
    "$$f(\\tilde{y} \\mid \\lambda) = \\frac{\\lambda^{\\Sigma y_i} e^{-n\\lambda}}{\\prod_{i=1}^{n} y_i!} \\text{ for } \\lambda > 0$$"
   ]
  },
  {
   "cell_type": "markdown",
   "metadata": {},
   "source": [
    "Can we use a conjugate prior for this? What distribution look like lambda to the the something, e to the minus something lambda? The Gamma distribution. So Gamma prior is going to look like\n",
    "\n",
    "$$\\lambda \\sim \\Gamma(\\alpha, \\beta)$$ \n",
    "\n",
    "$$f(\\lambda) = \\frac{\\beta^{\\alpha}}{\\Gamma(\\alpha)} \\lambda^{\\alpha - 1}  e^{-\\beta\\lambda}$$\n",
    "\n",
    "$$f(\\lambda \\mid \\tilde{y}) \\propto f(\\tilde{y} \\mid \\lambda)f(\\lambda) \\propto \\lambda^{\\Sigma y_i}e^{-n\\lambda}\\lambda^{\\alpha-1}e^{-\\beta\\lambda} \\propto \\lambda^{\\left(\\alpha+\\Sigma y_i\\right)-1} e^{-\\left(\\beta +n \\right)\\lambda}$$\n",
    "\n",
    "(after dropping the non-$\\lambda$ terms, which we don't care about because this is a proportional relationship)\n",
    "\n",
    "Posterior is therefore $\\Gamma(\\alpha+\\Sigma y_i, \\beta+n)$"
   ]
  },
  {
   "cell_type": "markdown",
   "metadata": {},
   "source": [
    "Mean of Gamma is $\\frac{\\alpha}{\\beta}$, so posterior mean is\n",
    "\n",
    "$$\\frac{\\alpha+\\Sigma y_i}{\\beta +n} =  \\frac{\\beta}{\\beta +n}  \\cdot \\frac{\\alpha}{\\beta}  + \\frac{n}{\\beta +n} \\cdot \\frac{\\Sigma y_i}{n}$$\n",
    "\n",
    "Again, it's a weighted average of the prior mean and the data mean, and the effective data size of the prior is $\\beta$"
   ]
  },
  {
   "cell_type": "markdown",
   "metadata": {},
   "source": [
    "How would we choose our priors, for example in the cookie case? \n",
    "\n",
    "There are two broad strategies:\n",
    "\n",
    "The first is to include information in our prior based on personal experience. Start by thinking about the prior mean, (alpha/beta). In this case what do we think the number of chips per cookie is? \n",
    "\n",
    "But we need more before we can mathematically solve for alpha and beta, we need another equivalence equation basially. We could use an estimate of variance/StdDv. This can be though of as 'how sure are we about out prior mean?'. We can then use the Gamma std dev. forumla $\\sqrt{\\alpha}/\\beta$. \n",
    "\n",
    "Alternatively to get our second second formula we could think about how big we think our effective sample size $\\beta$ is. Really this is the same thing."
   ]
  },
  {
   "cell_type": "markdown",
   "metadata": {},
   "source": [
    "The second option is a 'vague' prior which containes no information. Equivalent to a uniform 0,1 prior in the Binomial/Beta pair, it's a prior where the pdf is basically flat.\n",
    "\n",
    "Here we can think about some small $\\epsilon>0$, and have our prior be $\\Gamma(\\epsilon,\\epsilon)$\n",
    "\n",
    "So the mean will episilon over epsilon, which is one, but the SD will be huge, 1\\episilon.\n",
    "\n",
    "If Epsilon (and therefore Beta) is small compared to n, the weighting given to the prior in the posterior mean will be very small."
   ]
  },
  {
   "cell_type": "markdown",
   "metadata": {},
   "source": [
    "## Lesson 8 Quiz\n",
    "\n",
    "For Questions 1-8, consider the chocolate chip cookie example from the lesson.\n",
    "\n",
    "As in the lesson, we use a Poisson likelihood to model the number of chips per cookie, and a conjugate gamma prior on $\\lambda$, the expected number of chips per cookie. Suppose your prior expectation for $\\lambda$ is 8.\n",
    "\n",
    "### Q1\n",
    "The conjugate prior with mean 8 and effective sample size of 2 is Gamma(a,2). Find the value of $a$."
   ]
  },
  {
   "cell_type": "code",
   "execution_count": 38,
   "metadata": {},
   "outputs": [
    {
     "data": {
      "text/plain": [
       "16"
      ]
     },
     "execution_count": 38,
     "metadata": {},
     "output_type": "execute_result"
    }
   ],
   "source": [
    "beta = 2\n",
    "mean = 8\n",
    "alpha = beta * mean\n",
    "alpha"
   ]
  },
  {
   "cell_type": "markdown",
   "metadata": {},
   "source": [
    "### Q2\n",
    "\n",
    "The conjugate prior with mean 8 and standard deviation 1 is Gamma(a,8). Find the value of a.\n"
   ]
  },
  {
   "cell_type": "code",
   "execution_count": 43,
   "metadata": {},
   "outputs": [
    {
     "data": {
      "text/plain": [
       "(64, 1.0)"
      ]
     },
     "execution_count": 43,
     "metadata": {},
     "output_type": "execute_result"
    }
   ],
   "source": [
    "beta = 8\n",
    "mean = 8\n",
    "alpha = beta * mean\n",
    "stddev = np.sqrt(alpha)/beta\n",
    "(alpha, stddev)"
   ]
  },
  {
   "cell_type": "markdown",
   "metadata": {},
   "source": [
    "### Q3\n",
    "Suppose you are not very confident in your prior guess of 8, so you want to use a prior effective sample size of 1/100 cookies. Then the conjugate prior is Gamma(a,0.01). Find the value of a. Round your answer to two decimal places."
   ]
  },
  {
   "cell_type": "code",
   "execution_count": 44,
   "metadata": {},
   "outputs": [
    {
     "data": {
      "text/plain": [
       "(0.08, 28.2842712474619)"
      ]
     },
     "execution_count": 44,
     "metadata": {},
     "output_type": "execute_result"
    }
   ],
   "source": [
    "beta = 1/100\n",
    "mean = 8\n",
    "alpha = beta * mean\n",
    "stddev = np.sqrt(alpha)/beta\n",
    "(alpha, stddev)"
   ]
  },
  {
   "cell_type": "markdown",
   "metadata": {},
   "source": [
    "### Q4\n",
    "Suppose you decide on the prior Gamma(8, 1), which has prior mean 8 and effective sample size of one cookie.\n",
    "\n",
    "We collect data, sampling five cookies and counting the chips in each. We find 9, 12, 10, 15, and 13 chips.\n",
    "\n",
    "What is the posterior distribution for λ?"
   ]
  },
  {
   "cell_type": "markdown",
   "metadata": {},
   "source": [
    "$\\Gamma(\\alpha+\\Sigma y_i, \\beta+n) = \\Gamma(8+(9+12+10+15+13), 1+5) = \\Gamma(67, 6) $"
   ]
  },
  {
   "cell_type": "markdown",
   "metadata": {},
   "source": [
    "### Q5\n",
    "Continuing the previous question, plot the the prior density (dotted line) and posterior density (solid line) of λ"
   ]
  },
  {
   "cell_type": "code",
   "execution_count": 48,
   "metadata": {},
   "outputs": [
    {
     "data": {
      "image/png": "[encoded data removed]",
      "text/plain": [
       "<Figure size 432x288 with 1 Axes>"
      ]
     },
     "metadata": {
      "needs_background": "light"
     },
     "output_type": "display_data"
    }
   ],
   "source": [
    "lam = np.linspace(0,20,101)\n",
    "alpha0 = 8\n",
    "beta0 = 1\n",
    "\n",
    "plt.plot(lam, gamma.pdf(lam,a=alpha0, scale=1/beta0),linestyle = 'dashed')\n",
    "alpha1 = 67\n",
    "beta1 = 6\n",
    "\n",
    "plt.plot(lam, gamma.pdf(lam,a=alpha1, scale=1/beta1))\n",
    "plt.show()"
   ]
  },
  {
   "cell_type": "markdown",
   "metadata": {},
   "source": [
    "### Q6\n",
    "Continuing Question 4, what is the posterior mean for λ? Round your answer to one decimal place."
   ]
  },
  {
   "cell_type": "markdown",
   "metadata": {},
   "source": [
    "$$\\frac{\\alpha+\\Sigma y_i}{\\beta +n} =  \\frac{\\beta}{\\beta +n}  \\cdot \\frac{\\alpha}{\\beta}  + \\frac{n}{\\beta +n} \\cdot \\frac{\\Sigma y_i}{n}$$"
   ]
  },
  {
   "cell_type": "code",
   "execution_count": 53,
   "metadata": {},
   "outputs": [
    {
     "data": {
      "text/plain": [
       "(59, 5, 11.166666666666666)"
      ]
     },
     "execution_count": 53,
     "metadata": {},
     "output_type": "execute_result"
    }
   ],
   "source": [
    "alpha0 = 8\n",
    "beta0 = 1\n",
    "y = [9,12,10,15,13]\n",
    "n = len(y)\n",
    "postmean = (alpha0 + np.sum(y))/(beta0 + n)\n",
    "(np.sum(y),n,postmean)"
   ]
  },
  {
   "cell_type": "markdown",
   "metadata": {},
   "source": [
    "### Q7\n",
    "Continuing Question 4, use R or Excel to find the lower end of a 90% equal-tailed credible interval for λ. Round your answer to one decimal place."
   ]
  },
  {
   "cell_type": "code",
   "execution_count": 51,
   "metadata": {},
   "outputs": [
    {
     "data": {
      "text/plain": [
       "9.021381966387127"
      ]
     },
     "execution_count": 51,
     "metadata": {},
     "output_type": "execute_result"
    }
   ],
   "source": [
    "gamma.ppf(0.05,a=67, scale=1/6)"
   ]
  },
  {
   "cell_type": "markdown",
   "metadata": {},
   "source": [
    "### Q8\n",
    "Continuing Question 4, suppose that in addition to the five cookies reported, we observe an additional ten cookies with 109 total chips. What is the new posterior distribution for λ, the expected number of chips per cookie?\n",
    "\n",
    "Hint: You can either use the posterior from the previous analysis as the prior here, or you can start with the original Gamma(8,1) prior and update with all fifteen cookies. The result will be the same.\n"
   ]
  },
  {
   "cell_type": "markdown",
   "metadata": {},
   "source": [
    "$\\Gamma(\\alpha+\\Sigma y_i, \\beta+n) = \\Gamma(67+109, 6+10) = \\Gamma(176, 16) $"
   ]
  },
  {
   "cell_type": "markdown",
   "metadata": {},
   "source": [
    "For Questions 9-10, consider the following scenario:\n",
    "\n",
    "A retailer notices that a certain type of customer tends to call their customer service hotline more often than other customers, so they begin keeping track. They decide a Poisson process model is appropriate for counting calls, with calling rate $\\theta$ calls per customer per day.\n",
    "\n",
    "The model for the total number of calls is then $Y \\sim \\text{Poisson}(n\\cdot t \\cdot \\theta)$ where $n$ is the number of customers in the group and $t$ is the number of days. That is, if we observe the calls from a group with 24 customers for 5 days, the expected number of calls would be $24\\cdot 5\\cdot \\theta = 120\\cdot \\theta$.\n",
    "\n",
    "The likelihood for $Y$ is then $f(y \\mid \\theta) = \\frac{(nt\\theta)^y e^{-nt\\theta}}{y!} \\propto \\theta^y e^{-nt\\theta}$.\n",
    "\n",
    "This model also has a conjugate gamma prior $\\theta \\sim \\text{Gamma}(a, b)$ which has density (PDF) $f(\\theta) = \\frac{b^a}{\\Gamma(a)} \\theta^{a-1} e^{-b\\theta} \\propto \\theta^{a-1} e^{-b\\theta}$.\n",
    "\n",
    "### Q9\n",
    "Following the same procedure outlined in the lesson, find the posterior distribution for $\\theta$."
   ]
  },
  {
   "cell_type": "markdown",
   "metadata": {},
   "source": [
    "$\\Gamma(a+\\Sigma y_i, b+n) = $"
   ]
  },
  {
   "cell_type": "markdown",
   "metadata": {},
   "source": [
    "### Q10 \n",
    "On average, the retailer receives 0.01 calls per customer per day. To give this group the benefit of the doubt, they set the prior mean for $\\theta$ at 0.01 with standard deviation 0.5. This yields a $\\text{Gamma}(\\frac{1}{2500}, \\frac{1}{25})$ prior for $\\theta$.\n",
    "\n",
    "Suppose there are $n=24$ customers in this particular group of interest, and the retailer monitors calls from these customers for $t=5$ days. They observe a total of $y=6$ calls from this group.\n",
    "\n",
    "The following graph shows the resulting $\\text{Gamma}(6.0004, 120.04)$ posterior for $\\theta$, the calling rate for this group. The vertical dashed line shows the average calling rate of 0.01."
   ]
  },
  {
   "cell_type": "code",
   "execution_count": 37,
   "metadata": {},
   "outputs": [
    {
     "data": {
      "image/png": "[encoded data removed]",
      "text/plain": [
       "<Figure size 432x288 with 1 Axes>"
      ]
     },
     "metadata": {
      "needs_background": "light"
     },
     "output_type": "display_data"
    }
   ],
   "source": [
    "theta = np.linspace(0,0.15,101)\n",
    "alpha = 6.0004\n",
    "beta = 120.04\n",
    "plt.plot(theta, gamma.pdf(theta,a=alpha, scale=1/beta))\n",
    "plt.axvline(x=0.01,linestyle='dashed')\n",
    "plt.show()"
   ]
  },
  {
   "cell_type": "markdown",
   "metadata": {},
   "source": [
    "Does this posterior inference for $\\theta$ suggest that the group has a higher calling rate than the average of 0.01 calls per customer per day?"
   ]
  },
  {
   "cell_type": "code",
   "execution_count": null,
   "metadata": {},
   "outputs": [],
   "source": []
  }
 ],
 "metadata": {
  "kernelspec": {
   "display_name": "Python 3",
   "language": "python",
   "name": "python3"
  },
  "language_info": {
   "codemirror_mode": {
    "name": "ipython",
    "version": 3
   },
   "file_extension": ".py",
   "mimetype": "text/x-python",
   "name": "python",
   "nbconvert_exporter": "python",
   "pygments_lexer": "ipython3",
   "version": "3.7.1"
  }
 },
 "nbformat": 4,
 "nbformat_minor": 2
}
