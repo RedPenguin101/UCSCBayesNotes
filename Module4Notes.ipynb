{
 "cells": [
  {
   "cell_type": "code",
   "execution_count": 2,
   "metadata": {},
   "outputs": [],
   "source": [
    "import numpy as np\n",
    "from scipy.stats import gamma\n",
    "from scipy.stats import expon\n",
    "from scipy.stats import norm\n",
    "from scipy.stats import invgamma\n",
    "import matplotlib.pyplot as plt\n",
    "import pandas as pd"
   ]
  },
  {
   "cell_type": "markdown",
   "metadata": {},
   "source": [
    "# Module 4:  Models for Continuous Data\n",
    "\n",
    "## Course Contents\n",
    "* lesson 9: Exponential Data\n",
    "* lesson 10: Normal Data\n",
    "* lesson 11: Back to priors: objective choince of priors, non-informatives, Jeffreys prior\n",
    "* lesson 12: Linear Regression\n"
   ]
  },
  {
   "cell_type": "markdown",
   "metadata": {},
   "source": [
    "## Lession 9 - exponential data\n",
    "You're waiting for a bus but you're not sure how often it comes.\n",
    "\n",
    "$$Y \\sim Exp(\\lambda)$$\n",
    "\n",
    "The prior predictive is the mean $\\frac{1}{\\lambda}$\n",
    "\n",
    "The conjugate of the exponential is also the Gamma\n",
    "\n",
    "When picking a prior here, if we think the bus comes once per 10 minutes, the mean is 1/10, so preior predictive is 0.1.\n",
    "\n",
    "So say we pick a prior Gamma(100,1000), so prior mean is 0.1, and prior standard deviation is 10/1000, or 0.01."
   ]
  },
  {
   "cell_type": "markdown",
   "metadata": {},
   "source": [
    "Thinking of a rough interval of 2 standard deviations, we get 0.1 + or - 0.02 as a range\n",
    "\n",
    "Say we wait for 12 mins and a but arrives (Y=12). What's our posterior predictive?\n",
    "\n",
    "$$f(\\lambda \\mid y) \\propto f(y\\mid \\lambda)f(\\lambda) \\propto \\lambda e^{-\\lambda y} \\lambda{\\alpha-1} e^{-\\beta\\lambda} \\propto \\lambda^{(\\alpha+1)-1} e^{-(\\beta+y)\\lambda}$$\n",
    "\n",
    "The last is the pdf of a gamma distribution, so we can say\n",
    "\n",
    "$$\\lambda \\mid y \\sim \\text{Gamma}(\\alpha+1, \\beta+y)$$"
   ]
  },
  {
   "cell_type": "markdown",
   "metadata": {},
   "source": [
    "For our example then\n",
    "\n",
    "$$\\lambda \\mid y \\sim \\text{Gamma}(101,1012)$$\n",
    "\n",
    "And our posterior mean is $\\frac{101}{1012} = 0.0998$. Our posterior doesn't shift much, because our data doesn't contain a lot of information (12) vs. our prior (1000). One data point doesn't chnage the prior much if our standard standard deviation is small.\n",
    "\n"
   ]
  },
  {
   "cell_type": "markdown",
   "metadata": {},
   "source": [
    "#### Miniquiz\n",
    "\n",
    "We can generalize the result from the lesson to more than one data point.\n",
    "\n",
    "Suppose $Y_1, \\ldots, Y_n$ are independent and identically distributed exponential with mean $1/\\lambda$, and assume a $\\text{Gamma}(\\alpha, \\beta)$ prior for $\\lambda$. The likelihood is then $f(\\tilde{y} \\mid \\lambda) = \\lambda^n e^{-\\lambda \\sum y_i}$, and we can follow the same steps from the lesson to obtain the posterior distribution (try to derive it yourself):\n",
    "\n",
    "$\\lambda \\mid \\mathbf{y} \\sim \\text{Gamma}(\\alpha + n, \\beta + \\sum y_i)$\n",
    "\n",
    "What is the prior effective sample size in this model?"
   ]
  },
  {
   "cell_type": "markdown",
   "metadata": {},
   "source": [
    "#### Answer\n",
    "\n",
    "The prior mean is $\\frac{\\alpha}{\\beta}$ and the data mean is $\\frac{n}{\\Sigma y_i}$.\n",
    "\n",
    "The posterior mean is \n",
    "\n",
    "$$\\frac{n+\\alpha}{\\beta+\\Sigma y_i} = \\frac{n}{\\beta + \\Sigma y_i} + \\frac{\\alpha}{\\beta + \\Sigma y_i} = \\frac{\\Sigma y_i}{\\beta + \\Sigma y_i}\\cdot \\frac{n}{\\Sigma y_i} + \\frac{\\beta}{\\beta + \\Sigma y_i} \\cdot \\frac{\\alpha}{\\beta}$$\n",
    "\n",
    "So the effective sample size is the term equivalent to $n$ in the prior weighted term, which is $\\alpha$"
   ]
  },
  {
   "cell_type": "markdown",
   "metadata": {},
   "source": [
    "## Lesson 9 Quiz\n",
    "\n",
    "For Questions 1-3, refer to the bus waiting time example from the lesson.\n",
    "\n",
    "### Q1\n",
    "Recall that we used the conjugate gamma prior for $\\lambda$, the arrival rate in busses per minute. Suppose our prior belief about this rate is that it should have mean 1/20 arrivals per minute with standard deviation 1/5. Then the prior is $\\text{Gamma}(a, b)$ with $a=1/16$.\n",
    "\n",
    "Find the value of $b$. Round your answer to two decimal places."
   ]
  },
  {
   "cell_type": "code",
   "execution_count": 12,
   "metadata": {},
   "outputs": [
    {
     "data": {
      "text/plain": [
       "1.25"
      ]
     },
     "execution_count": 12,
     "metadata": {},
     "output_type": "execute_result"
    }
   ],
   "source": [
    "mean = 1/20\n",
    "a = 1/16\n",
    "b = a/mean\n",
    "b"
   ]
  },
  {
   "cell_type": "markdown",
   "metadata": {},
   "source": [
    "### Q2\n",
    "Suppose that we wish to use a prior with the same mean (1/20), but with effective sample size of one arrival. Then the prior for $\\lambda$ is $\\text{Gamma}(1, 20)$.\n",
    "\n",
    "In addition to the original $Y_1=12$ we observe the waiting times for four additional busses: $Y_2=15, Y_3=8, Y_4=13.5,Y_5=25$.\n",
    "\n",
    "Recall that with multiple (independent) observations, the posterior for $\\lambda$ is $\\text{Gamma}(\\alpha, \\beta)$ where $\\alpha = a + n$ and $\\beta = b + \\sum y_i$ \n",
    "\n",
    "What is the posterior mean for $\\lambda$? Round your answer to two decimal places."
   ]
  },
  {
   "cell_type": "code",
   "execution_count": 13,
   "metadata": {},
   "outputs": [
    {
     "data": {
      "text/plain": [
       "0.06417112299465241"
      ]
     },
     "execution_count": 13,
     "metadata": {},
     "output_type": "execute_result"
    }
   ],
   "source": [
    "y = [12,15,8,13.5,25]\n",
    "a = 1\n",
    "b = 20\n",
    "n = 5\n",
    "postmean = (a+n)/(b+np.sum(y))\n",
    "postmean"
   ]
  },
  {
   "cell_type": "markdown",
   "metadata": {},
   "source": [
    "### Q3 THIS ANSWER IS WRONG, DON'T KNOW WHY, FUCK IT\n",
    "Continuing Question 2, use R or Excel to find the posterior probability that $\\lambda < 1/10$? Round your answer to two decimal places."
   ]
  },
  {
   "cell_type": "code",
   "execution_count": 20,
   "metadata": {},
   "outputs": [
    {
     "data": {
      "image/png": "[encoded data removed]",
      "text/plain": [
       "<Figure size 432x288 with 1 Axes>"
      ]
     },
     "metadata": {
      "needs_background": "light"
     },
     "output_type": "display_data"
    },
    {
     "data": {
      "text/plain": [
       "(6, 78.5)"
      ]
     },
     "execution_count": 20,
     "metadata": {},
     "output_type": "execute_result"
    }
   ],
   "source": [
    "alpha = a+n\n",
    "beta = n+np.sum(y)\n",
    "lam = np.linspace(0,1,101)\n",
    "plt.plot(lam, gamma.pdf(lam,alpha/beta))\n",
    "plt.show()\n",
    "(alpha,beta)"
   ]
  },
  {
   "cell_type": "code",
   "execution_count": 19,
   "metadata": {},
   "outputs": [
    {
     "data": {
      "text/plain": [
       "0.7946338247415933"
      ]
     },
     "execution_count": 19,
     "metadata": {},
     "output_type": "execute_result"
    }
   ],
   "source": [
    "gamma.cdf(0.1, alpha, scale = 1/beta)"
   ]
  },
  {
   "cell_type": "markdown",
   "metadata": {},
   "source": [
    "For Questions 4-10, consider the following earthquake data:\n",
    "\n",
    "The United States Geological Survey maintains a list of significant earthquakes worldwide. We will model the rate of earthquakes of magnitude 4.0+ in the state of California during 2015. An iid exponential model on the waiting time between significant earthquakes is appropriate if we assume:\n",
    "\n",
    "1. earthquake events are independent,\n",
    "2. the rate at which earthquakes occur does not change during the year, and\n",
    "3. the earthquake hazard rate does not change (i.e., the probability of an earthquake happening tomorrow is constant regardless of whether the previous earthquake was yesterday or 100 days ago).\n",
    "\n",
    "Let $Y_i$ denote the waiting time in days between the ith earthquake and the following earthquake. Our model is $Y_i \\overset{\\text{iid}}{\\sim} \\text{Exponential}(\\lambda)$ where the expected waiting time between earthquakes is $E(Y) = 1/\\lambda$ days.\n",
    "\n",
    "Assume the conjugate prior $\\lambda \\sim \\text{Gamma}(a,b)$. Suppose our prior expectation for $\\lambda$ is 1/30, and we wish to use a prior effective sample size of one interval between earthquakes.\n",
    "\n",
    "### Q4\n",
    "What is the value of $a$?"
   ]
  },
  {
   "cell_type": "markdown",
   "metadata": {},
   "source": [
    "$\\alpha$ is the effective sample size, so 1"
   ]
  },
  {
   "cell_type": "markdown",
   "metadata": {},
   "source": [
    "### Q5\n",
    "What is the value of $b$?"
   ]
  },
  {
   "cell_type": "markdown",
   "metadata": {},
   "source": [
    "a/b = mean, mean is 1/lambda = 1/30, so b=30/a, b is 30"
   ]
  },
  {
   "cell_type": "markdown",
   "metadata": {},
   "source": [
    "### Q6\n",
    "The significant earthquakes of magnitude 4.0+ in the state of California during 2015 occurred on the following dates (http://earthquake.usgs.gov/earthquakes/browse/significant.php?year=2015):\n",
    "\n",
    "January 4, January 20, January 28, May 22, July 21, July 25, August 17, September 16, December 30.\n",
    "\n",
    "Recall that we are modeling the waiting times between earthquakes in days. What is our data vector?"
   ]
  },
  {
   "cell_type": "markdown",
   "metadata": {},
   "source": [
    "16, 8, 114, 60, 4, 23, 30, 105"
   ]
  },
  {
   "cell_type": "markdown",
   "metadata": {},
   "source": [
    "### Q7\n",
    "The posterior distribution is $\\lambda \\mid \\mathbf{y} \\sim \\text{Gamma}(\\alpha, \\beta)$. What is the value of $\\alpha$?"
   ]
  },
  {
   "cell_type": "markdown",
   "metadata": {},
   "source": [
    "$\\alpha = a + n = 1 + 8 = 9$"
   ]
  },
  {
   "cell_type": "markdown",
   "metadata": {},
   "source": [
    "### Q8\n",
    "The posterior distribution is $\\lambda \\mid \\mathbf{y} \\sim \\text{Gamma}(\\alpha, \\beta)$. What is the value of $\\beta$?"
   ]
  },
  {
   "cell_type": "markdown",
   "metadata": {},
   "source": [
    "$\\beta = b + \\Sigma y_i$"
   ]
  },
  {
   "cell_type": "code",
   "execution_count": 6,
   "metadata": {},
   "outputs": [
    {
     "data": {
      "text/plain": [
       "(9, 390)"
      ]
     },
     "execution_count": 6,
     "metadata": {},
     "output_type": "execute_result"
    }
   ],
   "source": [
    "a = 1\n",
    "b = 30\n",
    "y = [16,8,114,60,4,23,30,105]\n",
    "n = 8\n",
    "alpha = a+n \n",
    "beta = 30+np.sum(y)\n",
    "(alpha, beta)"
   ]
  },
  {
   "cell_type": "code",
   "execution_count": 7,
   "metadata": {},
   "outputs": [
    {
     "data": {
      "text/plain": [
       "(30.0, 43.33333333333333)"
      ]
     },
     "execution_count": 7,
     "metadata": {},
     "output_type": "execute_result"
    }
   ],
   "source": [
    "priormean = a/b\n",
    "postmean = alpha/beta\n",
    "(1/priormean, 1/postmean)"
   ]
  },
  {
   "cell_type": "markdown",
   "metadata": {},
   "source": [
    "Which is saying an earthquake every 43 days. Seems reasonable since sample mean is 45 with size 8, and our prior was 30 days with sample size 1 "
   ]
  },
  {
   "cell_type": "markdown",
   "metadata": {},
   "source": [
    "### Q9\n",
    "Use R or Excel to calculate the upper end of the 95% equal-tailed credible interval for $\\lambda$, the rate of major earthquakes in events per day. Round your answer to two decimal places."
   ]
  },
  {
   "cell_type": "code",
   "execution_count": 21,
   "metadata": {},
   "outputs": [
    {
     "data": {
      "text/plain": [
       "(0.010552238711226496, 0.04041843389793157)"
      ]
     },
     "execution_count": 21,
     "metadata": {},
     "output_type": "execute_result"
    }
   ],
   "source": [
    "alpha = 9\n",
    "beta = 390\n",
    "(gamma.ppf(0.025,alpha, scale =1/beta),gamma.ppf(0.975,alpha, scale =1/beta))"
   ]
  },
  {
   "cell_type": "markdown",
   "metadata": {},
   "source": [
    "### Q10\n",
    "The posterior predictive density for a new waiting time $y^*$ in days is:\n",
    "\n",
    "$$f(y^* \\mid \\mathbf{y} ) = \\int f(y^* \\mid \\lambda) \\cdot f(\\lambda \\mid \\mathbf{y}) d\\lambda = \\frac{ \\beta^\\alpha \\Gamma(\\alpha + 1) }{ (\\beta + y^*)^{\\alpha + 1} \\Gamma(\\alpha) } I_{\\{y^* \\ge 0 \\}} = \\frac{ \\beta^\\alpha \\alpha}{ (\\beta + y^*)^{\\alpha + 1}} I_{\\{y^* \\ge 0 \\}}$$\n",
    "\n",
    "where $f(\\lambda \\mid \\mathbf{y})$ is the $\\text{Gamma}(\\alpha, \\beta)$ posterior found earlier. Use R or Excel to evaluate and plot this posterior predictive PDF"
   ]
  },
  {
   "cell_type": "code",
   "execution_count": 9,
   "metadata": {},
   "outputs": [
    {
     "data": {
      "image/png": "[encoded data removed]",
      "text/plain": [
       "<Figure size 432x288 with 1 Axes>"
      ]
     },
     "metadata": {
      "needs_background": "light"
     },
     "output_type": "display_data"
    }
   ],
   "source": [
    "alpha = 9\n",
    "beta = 390\n",
    "y = np.linspace(0,120,101)\n",
    "fy = (beta**alpha * alpha)/((beta+y)**(alpha+1))\n",
    "plt.plot(y,fy)\n",
    "plt.show()"
   ]
  },
  {
   "cell_type": "markdown",
   "metadata": {},
   "source": [
    "## Lesson 10.1 Normal likelihood with variance known\n",
    "\n",
    "Suppose we know the standard deviation and only want to know the mean. This often happens in industrial processes.\n",
    "\n",
    "$$X_i \\overset{\\text{iid}}\\sim N(\\mu,\\sigma_0^2)$$\n",
    "\n",
    "How to choose a prior for $\\mu$, what is conjugate to the Normal? turns out the Normal is conjugate to itself for it's mean parameter.\n",
    "\n",
    "Prior $\\mu \\sim N(m_0, S_0^2)$ (using 0's to specify these are particular values, not parameters)\n",
    "\n",
    "$$f(\\mu \\mid \\tilde{x}) \\propto f(\\tilde{x} \\mid \\mu)f(\\mu)$$\n",
    "\n",
    "(Lots of math, including completing the square, which I very vaguely remember)\n",
    "\n",
    "$$\\mu \\mid \\tilde{x} \\sim N\\left(\\frac{\\frac{n \\bar{x}}{\\sigma_0^2}+\\frac{m_0}{S_0^2}}{\\frac{n}{\\sigma_0^2}+\\frac{1}{S_0^2}},\\frac{1}{\\frac{n}{\\sigma_0^2}+\\frac{1}{S_0^2}} \\right)$$"
   ]
  },
  {
   "cell_type": "markdown",
   "metadata": {},
   "source": [
    "#### Posterior Mean\n",
    "can be re-written as \n",
    "\n",
    "$$\\frac{\\frac{n}{\\sigma_0^2}}{\\frac{n}{\\sigma_0^2}+\\frac{1}{S_0^2}} \\bar{x} + \\frac{\\frac{1}{S_0^2}}{\\frac{n}{\\sigma_0^2}+\\frac{1}{S_0^2}}m = \\frac{n}{n+\\frac{\\sigma_0^2}{S_0^2}} \\bar{x} + \\frac{\\frac{\\sigma_0^2}{S_0^2}}{n+\\frac{\\sigma_0^2}{S_0^2}}m$$"
   ]
  },
  {
   "cell_type": "markdown",
   "metadata": {},
   "source": [
    "So again the weighted average of the data mean and the prior. The effective weighting of the prior mean is the ratio of the variance of the data against the variance of the prior.  Which makes sense, because the larger the variance in the prior, the less information is contains."
   ]
  },
  {
   "cell_type": "markdown",
   "metadata": {},
   "source": [
    "### Miniquiz\n",
    "The prior (and posterior) predictive distribution for data is particularly simple in the conjugate normal model. If $Y \\mid \\theta \\sim \\text{N}(\\theta, \\sigma^2)$ and $\\theta \\sim \\text{N}(m_0, s_0^2)$, then the marginal distribution for $Y$, obtained as $\\int f(y, \\theta) d\\theta$, is $\\text{N}(m_0, s_0^2 + \\sigma^2)$\n",
    "\n",
    "Suppose your data are normally distributed with mean $\\theta$ and variance 1. You select a normal prior for $\\theta$ with mean 0 and variance 2. Then the prior predictive distribution for one data point would be $\\text{N}(0, a)$. Find the value of $a$."
   ]
  },
  {
   "cell_type": "code",
   "execution_count": 22,
   "metadata": {},
   "outputs": [
    {
     "data": {
      "text/plain": [
       "3"
      ]
     },
     "execution_count": 22,
     "metadata": {},
     "output_type": "execute_result"
    }
   ],
   "source": [
    "3"
   ]
  },
  {
   "cell_type": "markdown",
   "metadata": {},
   "source": [
    "### Posterior Predictive\n",
    "Plugging in the posterior params to this formula\n",
    "\n",
    "$$X | \\tilde{x} \\sim N(m_1,{s_1}^2+\\sigma^2)$$"
   ]
  },
  {
   "cell_type": "markdown",
   "metadata": {},
   "source": [
    "## Lesson 10.2 Normal likelihood with variance unknown\n",
    "\n",
    "If both mean and variance are unknown you can specify a prior in a hierarchical fashion.\n",
    "\n",
    "$$X_i \\mid \\mu, \\sigma^2 \\overset{\\text{iid}}\\sim N(\\mu,\\sigma^2)$$\n",
    "\n",
    "We give a distribution for $\\mu$ condition on $\\sigma$\n",
    "\n",
    "$$\\mu \\mid \\sigma^2 \\sim N\\left(m,\\frac{\\sigma^2}{w}\\right)$$\n",
    "\n",
    "Where $w=\\frac{\\sigma^2}{\\sigma_\\mu^2}$, the effective sample size of the prior"
   ]
  },
  {
   "cell_type": "markdown",
   "metadata": {},
   "source": [
    "$\\sigma$ we specify a inverse gamma prior for. \n",
    "\n",
    "$$\\sigma^2 \\sim \\Gamma^{-1}(\\alpha, \\beta)$$\n",
    "\n",
    "We can get a posterior for $\\sigma$\n",
    "\n",
    "$$\\sigma^2 \\mid \\tilde{x} \\sim \\Gamma^{-1}\\left(\\alpha+\\frac{n}{2},\\beta+\\frac{1}{2}\\sum_{i=1}^n (x_i-\\bar{x})^2 + \\frac{nw}{2(n+w)}(\\bar{x} - m)^2\\right)$$\n",
    "\n",
    "The posterior for $\\mu$, conditional on sigma\n",
    "\n",
    "$$\\mu \\mid \\sigma^2,\\tilde{x} \\sim N\\left(\\frac{n\\bar{x}+wm}{n+w},\\frac{\\sigma^2}{n+w}\\right)$$\n",
    "\n",
    "Note the mean term in this last one iscan be written as the weighted average of the prior mean and the data mean\n",
    "\n",
    "$$\\frac{n\\bar{x}+wm}{n+w} = \\frac{w}{n+w}m+\\frac{n}{n+w}\\bar{x}$$"
   ]
  },
  {
   "cell_type": "markdown",
   "metadata": {},
   "source": [
    "Sometimes you only really care about $\\mu$, and don't want it to depend on $\\sigma$. You can integrate it out and get a posterior for $\\mu$ which follows the t distribution\n",
    "\n",
    "$$\\mu \\mid \\tilde{x} \\sim t$$\n",
    "\n",
    "The posterior predictive distirbution is also a t distribution"
   ]
  },
  {
   "cell_type": "markdown",
   "metadata": {},
   "source": [
    "## Lesson 10 Quiz\n",
    "For Questions 1-6, consider the thermometer calibration problem from the quiz in Lesson 6.\n",
    "\n",
    "Suppose you are trying to calibrate a thermometer by testing the temperature it reads when water begins to boil. Because of natural variation, you take $n$ independent measurements (experiments) to estimate $\\theta$, the mean temperature reading for this thermometer at the boiling point. Assume a normal likelihood for these data, with mean $\\theta$ and known variance $\\sigma^2 = 0.25$ (which corresponds to a standard deviation of 0.5 degrees Celsius).\n",
    "\n",
    "Suppose your prior for $\\theta$ is (conveniently) the conjugate normal. You know that at sea level, water should boil at 100 degrees Celsius, so you set the prior mean at $m_0=100$ \n",
    "\n",
    "### Q1\n",
    "If you specify a prior variance $s_0^2$ for $\\theta$, what is the model for your measurements $Y_i$, $i=1,\\ldots,n$?"
   ]
  },
  {
   "cell_type": "markdown",
   "metadata": {},
   "source": [
    "$$Y_i \\mid \\theta \\overset{\\text{iid}}\\sim N\\left(\\theta,\\sigma^2 = 0.25\\right)$$\n",
    "\n",
    "$$\\theta \\sim N(m_0 = 100, s_0^2)$$"
   ]
  },
  {
   "cell_type": "markdown",
   "metadata": {},
   "source": [
    "### Q2\n",
    "You decide you want the prior to be equivalent (in effective sample size) to one measurement.\n",
    "\n",
    "What value should you select for $s_0^2$ the prior variance of $\\theta$? Round your answer to two decimal places."
   ]
  },
  {
   "cell_type": "code",
   "execution_count": 1,
   "metadata": {},
   "outputs": [
    {
     "data": {
      "text/plain": [
       "0.25"
      ]
     },
     "execution_count": 1,
     "metadata": {},
     "output_type": "execute_result"
    }
   ],
   "source": [
    "0.25"
   ]
  },
  {
   "cell_type": "markdown",
   "metadata": {},
   "source": [
    "### Q3\n",
    "You collect the following n=5 measurements: (94.6, 95.4, 96.2, 94.9, 95.9).\n",
    "\n",
    "What is the posterior distribution for $\\theta$?"
   ]
  },
  {
   "cell_type": "code",
   "execution_count": 19,
   "metadata": {},
   "outputs": [
    {
     "data": {
      "image/png": "[encoded data removed]",
      "text/plain": [
       "<Figure size 432x288 with 1 Axes>"
      ]
     },
     "metadata": {
      "needs_background": "light"
     },
     "output_type": "display_data"
    },
    {
     "data": {
      "text/plain": [
       "(96.16666666666667, 0.041666666666666664)"
      ]
     },
     "execution_count": 19,
     "metadata": {},
     "output_type": "execute_result"
    }
   ],
   "source": [
    "y = [94.6,95.4,96.2,94.9,95.9]\n",
    "n = 5\n",
    "ybar = np.mean(y)\n",
    "sigma_sq = 0.25\n",
    "s0_sq = 0.25\n",
    "m0 = 100\n",
    "m1 = (n*ybar/sigma_sq + m0/s0_sq) / (n/sigma_sq + 1/s0_sq)\n",
    "s1_sq = 1/(n/sigma_sq + 1/s0_sq)\n",
    "\n",
    "\n",
    "theta = np.linspace(90,110,101)\n",
    "prior = norm.pdf(theta, m0, np.sqrt(s0_sq))\n",
    "post = norm.pdf(theta, m1, np.sqrt(s1_sq))\n",
    "data = norm.pdf(theta, ybar, np.std(y,ddof=1))\n",
    "plt.plot(theta,prior,linestyle = 'dashed',color='red',label='prior')\n",
    "plt.plot(theta,data,linestyle = 'dashed',color='blue',label='data')\n",
    "plt.plot(theta,post,color='black',label='posterior')\n",
    "plt.legend(loc='best')\n",
    "plt.show()\n",
    "(m1,s1_sq)"
   ]
  },
  {
   "cell_type": "markdown",
   "metadata": {},
   "source": [
    "### Q4\n",
    "Use R or Excel to find the upper end of a 95% equal-tailed credible interval for θ."
   ]
  },
  {
   "cell_type": "code",
   "execution_count": 21,
   "metadata": {},
   "outputs": [
    {
     "data": {
      "text/plain": [
       "(95.76659069363706, 96.56674263969629)"
      ]
     },
     "execution_count": 21,
     "metadata": {},
     "output_type": "execute_result"
    }
   ],
   "source": [
    "(norm.ppf(0.025,m1,np.sqrt(s1_sq)),norm.ppf(0.975,m1,np.sqrt(s1_sq)))"
   ]
  },
  {
   "cell_type": "markdown",
   "metadata": {},
   "source": [
    "### Q5\n",
    "After collecting these data, is it reasonable to conclude that the thermometer is biased toward low values?"
   ]
  },
  {
   "cell_type": "code",
   "execution_count": 20,
   "metadata": {},
   "outputs": [
    {
     "data": {
      "text/plain": [
       "1.0"
      ]
     },
     "execution_count": 20,
     "metadata": {},
     "output_type": "execute_result"
    }
   ],
   "source": [
    "norm.cdf(100,m1,s1)"
   ]
  },
  {
   "cell_type": "markdown",
   "metadata": {},
   "source": [
    "Probability theta is less than 100 given the results set is 1"
   ]
  },
  {
   "cell_type": "markdown",
   "metadata": {},
   "source": [
    "### Q6\n",
    "What is the posterior predictive distribution of a single future observation $Y^*$?\n"
   ]
  },
  {
   "cell_type": "markdown",
   "metadata": {},
   "source": [
    "$Y^* \\mid \\theta \\sim N(m_0,s_0^2+\\sigma_0^2)$"
   ]
  },
  {
   "cell_type": "code",
   "execution_count": 22,
   "metadata": {},
   "outputs": [
    {
     "data": {
      "text/plain": [
       "(96.16666666666667, 0.2916666666666667)"
      ]
     },
     "execution_count": 22,
     "metadata": {},
     "output_type": "execute_result"
    }
   ],
   "source": [
    "(m1, s1_sq+sigma_sq)"
   ]
  },
  {
   "cell_type": "markdown",
   "metadata": {},
   "source": [
    "For Questions 7-10, consider the following scenario:\n",
    "\n",
    "Your friend moves from city A to city B and is delighted to find her favorite restaurant chain at her new location. After several meals, however, she suspects that the restaurant in city B is less generous. She decides to investigate.\n",
    "\n",
    "She orders the main dish on 30 randomly selected days throughout the year and records each meal's weight in grams. You still live in city A, so you assist by performing the same experiment at your restaurant. Assume that the dishes are served on identical plates (measurements subtract the plate's weight), and that your scale and your friend’s scale are consistent.\n",
    "\n",
    "The following histogram shows the 30 measurements from Restaurant B taken by your friend.\n",
    "\n",
    "![title](hist.svg)"
   ]
  },
  {
   "cell_type": "markdown",
   "metadata": {},
   "source": [
    "### Q7\n",
    "Is it reasonable to assume that these data are normally distributed?\n",
    "\n",
    "* Yes, the distribution appears to follow a bell-shaped curve.\n",
    "* Yes, the data are tightly clustered around a single number.\n",
    "* No, the first bar to the left of the peak is not equal in height to he first bar to the right of the peak.\n",
    "* **No, there appear to be a few extreme observations (outliers).**"
   ]
  },
  {
   "cell_type": "markdown",
   "metadata": {},
   "source": [
    "### Q8\n",
    "Your friend investigates the three observations above 700 grams and discovers that she had ordered the incorrect meal on those dates. She removes these observations from the data set and proceeds with the analysis using $n=27$.\n",
    "\n",
    "She assumes a normal likelihood for the data with unknown mean $\\mu$ and unknown variance $\\sigma^2$. She uses the model presented in Lesson 10.2 where, conditional on $\\sigma^2$, the prior for $\\mu$ is normal with mean $m$ and variance $\\sigma^2 / w$. Next, the marginal prior for $\\sigma^2$ is $\\text{Inverse-Gamma}(a,b)$.\n",
    "\n",
    "Your friend's prior guess on the mean dish weight is 500 grams, so we set $m=500$. She is not very confident with this guess, so we set the prior effective sample size $w=0.1$. Finally, she sets $a=3$ and $b=200$.\n",
    "\n",
    "We can learn more about this inverse-gamma prior by simulating draws from it. If a random variable $X$ follows a $\\text{Gamma}(a,b)$ distribution, then $\\frac{1}{X}$ follows an $\\text{Inverse-Gamma}(a,b)$ distribution. Hence, we can simulate draws from a gamma distribution and take their reciprocals, which will be draws from an inverse-gamma. \n",
    "\n",
    "(this is slightly different to the results I get below, where if $X\\sim\\text{Gamma}(a,b)$ distribution, then $\\frac{1}{X} \\sim\\text{Inverse-Gamma}(a,1/b)$ my results isn't right, per wikipedia - no idea what's going on here)\n",
    "\n",
    "Simulate a large number of draws (at least 300) from the prior for $\\sigma^2$ and report your approximate prior mean from these draws. It does not need to be exact."
   ]
  },
  {
   "cell_type": "code",
   "execution_count": 38,
   "metadata": {},
   "outputs": [
    {
     "data": {
      "image/png": "[encoded data removed]",
      "text/plain": [
       "<Figure size 432x288 with 1 Axes>"
      ]
     },
     "metadata": {
      "needs_background": "light"
     },
     "output_type": "display_data"
    },
    {
     "data": {
      "text/plain": [
       "100.0763178651963"
      ]
     },
     "execution_count": 38,
     "metadata": {},
     "output_type": "execute_result"
    }
   ],
   "source": [
    "r=1/gamma.rvs(3,scale = 1/200, size=1000)\n",
    "plt.hist(r)\n",
    "plt.show()\n",
    "np.mean(r)"
   ]
  },
  {
   "cell_type": "code",
   "execution_count": 40,
   "metadata": {},
   "outputs": [
    {
     "data": {
      "image/png": "[encoded data removed]",
      "text/plain": [
       "<Figure size 432x288 with 1 Axes>"
      ]
     },
     "metadata": {
      "needs_background": "light"
     },
     "output_type": "display_data"
    },
    {
     "data": {
      "text/plain": [
       "102.63896029906331"
      ]
     },
     "execution_count": 40,
     "metadata": {},
     "output_type": "execute_result"
    }
   ],
   "source": [
    "s=invgamma.rvs(3,scale = 200, size=1000)\n",
    "plt.hist(s)\n",
    "plt.show()\n",
    "np.mean(s)"
   ]
  },
  {
   "cell_type": "markdown",
   "metadata": {},
   "source": [
    "### Q9\n",
    "With the $n=27$ data points, your friend calculates the sample mean $\\bar{y} = 609.7$ and sample variance $s^2 = \\frac{1}{n-1} \\sum(y_i - \\bar{y})^2 = 401.8$\n",
    "\n",
    "Using the update formulas from Lesson 10.2, she calculates the following posterior distributions:\n",
    "\n",
    "$\\sigma^2 \\mid \\mathbf{y} \\sim \\text{Inverse-Gamma}(a', b')$\n",
    "\n",
    "$\\mu \\mid \\sigma^2, \\mathbf{y} \\sim \\text{N}(m', \\frac{\\sigma^2}{w+n})$\n",
    "\n",
    "where\n",
    "\n",
    "$a' = a + \\frac{n}{2} = 3 + \\frac{27}{2} = 16.5$\n",
    "\n",
    "$b' = b + \\frac{n-1}{2} s^2 + \\frac{wn}{2(w+n)}(\\bar{y}-m)^2 = 200 + \\frac{27-1}{2} 401.8 + \\frac{0.1\\cdot 27}{2(0.1+27)}(609.7-500)^2 = 6022.9$\n",
    "\n",
    "$m' = \\frac{n\\bar{y} + wm}{w + n} = \\frac{27\\cdot 609.7 + 0.1\\cdot 500}{0.1 + 27} = 609.3$\n",
    "\n",
    "$w=0.1$, and $w+n=27.1$.\n",
    "\n",
    "To simulate draws from this posterior, begin by drawing values for $\\sigma^2$ from its posterior using the method from the preceding question. Then, plug these values for $\\sigma^2$ into the posterior for $\\mu$ and draw from that normal distribution.\n",
    "\n",
    "Perform the posterior simulation described above and compute your approximate 95% equal-tailed credible interval for $\\mu$. Based on your simulation, which of the following appears to be the actual interval?"
   ]
  },
  {
   "cell_type": "code",
   "execution_count": 52,
   "metadata": {},
   "outputs": [
    {
     "data": {
      "image/png": "[encoded data removed]",
      "text/plain": [
       "<Figure size 432x288 with 1 Axes>"
      ]
     },
     "metadata": {
      "needs_background": "light"
     },
     "output_type": "display_data"
    },
    {
     "data": {
      "text/plain": [
       "388.3961493923754"
      ]
     },
     "execution_count": 52,
     "metadata": {},
     "output_type": "execute_result"
    }
   ],
   "source": [
    "s1_sq_est=1/gamma.rvs(16.5,scale = 1/6022.9, size=10000)\n",
    "plt.hist(s1_sq_est)\n",
    "plt.show()\n",
    "np.mean(s1_sq_est)"
   ]
  },
  {
   "cell_type": "code",
   "execution_count": 71,
   "metadata": {},
   "outputs": [
    {
     "data": {
      "image/png": "[encoded data removed]",
      "text/plain": [
       "<Figure size 432x288 with 1 Axes>"
      ]
     },
     "metadata": {
      "needs_background": "light"
     },
     "output_type": "display_data"
    },
    {
     "data": {
      "text/plain": [
       "609.3379529170072"
      ]
     },
     "execution_count": 71,
     "metadata": {},
     "output_type": "execute_result"
    }
   ],
   "source": [
    "mu1_est = norm.rvs(609.3,np.sqrt(s1_sq_est/(27.1)),size=10000)\n",
    "plt.hist(mu1_est)\n",
    "plt.show()\n",
    "np.mean(mu1_est)"
   ]
  },
  {
   "cell_type": "code",
   "execution_count": 72,
   "metadata": {},
   "outputs": [
    {
     "data": {
      "text/plain": [
       "(601.6806522347547, 616.8155872477917)"
      ]
     },
     "execution_count": 72,
     "metadata": {},
     "output_type": "execute_result"
    }
   ],
   "source": [
    "(np.percentile(mu1_est,2.5),np.percentile(mu1_est,97.5))"
   ]
  },
  {
   "cell_type": "markdown",
   "metadata": {},
   "source": [
    "### Q10\n",
    "You complete your experiment at Restaurant A with $n=30$ data points, which appear to be normally distributed. You calculate the sample mean $\\bar{y} = 622.8$ and sample variance $s^2 = \\frac{1}{n-1} \\sum(y_i - \\bar{y})^2 = 403.1$\n",
    "\n",
    "Repeat the analysis from Question 9 using the same priors and draw samples from the posterior distribution of $\\sigma_A^2$ and $\\mu_A$ (where the $A$ denotes that these parameters are for Restaurant A).\n",
    "\n",
    "Treating the data from Restaurant A as independent from Restaurant B, we can now attempt to answer your friend's original question: is restaurant A more generous? To do so, we can compute posterior probabilities of hypotheses like $\\mu_A > \\mu_B$. This is a simple task if we have simulated draws for $\\mu_A$ and $\\mu_B$. For $i=1, \\ldots, N$ (the number of simulations drawn for each parameter), make the comparison $\\mu_A > \\mu_B$ using the ith draw for $\\mu_A$ and $\\mu_B$. Then count how many of these return a TRUE value and divide by NN, the total number of simulations.\n",
    "\n",
    "Would you conclude that the main dish from restaurant A weighs more than the main dish from restaurant B on average? Why"
   ]
  },
  {
   "cell_type": "markdown",
   "metadata": {},
   "source": [
    "$$\\sigma^2 \\mid \\tilde{x} \\sim \\Gamma^{-1}\\left(\\alpha+\\frac{n}{2},\\beta+\\frac{1}{2}\\sum_{i=1}^n (x_i-\\bar{x})^2 + \\frac{nw}{2(n+w)}(\\bar{x} - m)^2\\right)$$\n",
    "\n",
    "$$= \\Gamma^{-1}\\left(\\alpha+\\frac{n}{2},\\beta+\\frac{n-1}{2} s^2 + \\frac{nw}{2(n+w)}(\\bar{x} - m)^2\\right)$$"
   ]
  },
  {
   "cell_type": "code",
   "execution_count": 84,
   "metadata": {},
   "outputs": [
    {
     "data": {
      "text/plain": [
       "(18.0, 6796.437043189369)"
      ]
     },
     "execution_count": 84,
     "metadata": {},
     "output_type": "execute_result"
    }
   ],
   "source": [
    "alpha = 3\n",
    "beta = 200\n",
    "m = 500\n",
    "w = 0.1\n",
    "n = 30\n",
    "ybarA = 622.8\n",
    "s_sq = 403.1\n",
    "\n",
    "a1 = alpha+(n/2)\n",
    "b1 = beta + ((n-1)/2)*s_sq + ((n*w)/(2*(n+w)))*(ybar-m)**2\n",
    "(a1,b1) # parameters of sig_sq1"
   ]
  },
  {
   "cell_type": "markdown",
   "metadata": {},
   "source": [
    "$$\\mu \\mid \\sigma^2,\\tilde{x} \\sim N\\left(\\frac{n\\bar{x}+wm}{n+w},\\frac{\\sigma^2}{n+w}\\right)$$"
   ]
  },
  {
   "cell_type": "code",
   "execution_count": 85,
   "metadata": {},
   "outputs": [
    {
     "data": {
      "text/plain": [
       "622.3920265780731"
      ]
     },
     "execution_count": 85,
     "metadata": {},
     "output_type": "execute_result"
    }
   ],
   "source": [
    "m1 = (n*ybar + w*m)/(n+w)\n",
    "m1"
   ]
  },
  {
   "cell_type": "code",
   "execution_count": 86,
   "metadata": {},
   "outputs": [
    {
     "data": {
      "image/png": "[encoded data removed]",
      "text/plain": [
       "<Figure size 432x288 with 1 Axes>"
      ]
     },
     "metadata": {
      "needs_background": "light"
     },
     "output_type": "display_data"
    }
   ],
   "source": [
    "sig_sq1_est = 1/gamma.rvs(a1, scale = 1/b1, size = 10000)\n",
    "plt.hist(sig_sq1_est)\n",
    "plt.show()"
   ]
  },
  {
   "cell_type": "code",
   "execution_count": 87,
   "metadata": {},
   "outputs": [
    {
     "data": {
      "image/png": "[encoded data removed]",
      "text/plain": [
       "<Figure size 432x288 with 1 Axes>"
      ]
     },
     "metadata": {
      "needs_background": "light"
     },
     "output_type": "display_data"
    },
    {
     "data": {
      "text/plain": [
       "(615.0605334851613, 629.5621953447818)"
      ]
     },
     "execution_count": 87,
     "metadata": {},
     "output_type": "execute_result"
    }
   ],
   "source": [
    "mu1_estA = norm.rvs(m1, np.sqrt(sig_sq1_est/(w+n)), size = 10000)\n",
    "plt.hist(mu1_estA)\n",
    "plt.show()\n",
    "(np.percentile(mu1_estA, 2.5),np.percentile(mu1_estA,97.5))"
   ]
  },
  {
   "cell_type": "code",
   "execution_count": 88,
   "metadata": {},
   "outputs": [
    {
     "data": {
      "text/plain": [
       "0.9913"
      ]
     },
     "execution_count": 88,
     "metadata": {},
     "output_type": "execute_result"
    }
   ],
   "source": [
    "diffs = mu1_estA > mu1_est\n",
    "np.mean(diffs)"
   ]
  },
  {
   "cell_type": "markdown",
   "metadata": {},
   "source": [
    "## Lesson 11-1: Non-informative Priors\n",
    "\n",
    "Priors can\n",
    "* contain significant information\n",
    "* be 'vague', contain minamal information\n",
    "* be non-informative, providing NO information\n",
    "\n",
    "The last will minimise the impact of our prior on the posterior.\n",
    "\n",
    "Back to coin flipping, $Y \\sim B(\\theta)$. How to minimise info in prior? We saw a prior where all values are equally likely, $\\theta \\sim U[0,1]$ This seems like it might have minimal info in it, but recall this is a $Beta(1,1)$ distribution - the effective sample size is actually 2. What about Beta(0.5,0.5)? Less information. \n",
    "\n",
    "The logical conclusion of this is a $Beta(0,0)$. Is this possible? It looks like $f(\\theta) \\propto \\theta^{-1}(1-\\theta)^{-1}$.\n",
    "\n",
    "It's not a proper density in that it doesn't integrate to 1 over all values. You can't normalise it. It is an **improper prior**. But we can still use it. As long as your data has at least one success and one failure you can use it. Your posterior will be\n",
    "\n",
    "$$f(\\theta \\mid y) \\propto \\theta^{y-1}(1-\\theta)^{n-y-1} \\sim Beta(y,n-y)$$\n",
    "\n",
    "with posterior mean $y/n = \\hat{\\theta}$, or the MLE. In other words, by using the improper prior you get the same result as if you had used the frequentist approach, but you can still make interval statements.\n",
    "\n",
    "Using imporpoer priors is fine as long as your posterior is proper (subject to a few gotchas, like needing to observe at least 1 success and 1 failure).\n",
    "\n",
    "For many problems you can fine a prior (usually improper) which leads to the same PDF as a frequentist approach.\n",
    "\n",
    "Another example: Normal case $Y_i \\overset{\\text{iid}}\\sim N(\\mu, \\sigma^2)$. Assume sigma is known.\n",
    "\n",
    "A vague prior would be $\\mu \\sim N(0,1000000^2)$\n",
    "\n",
    "If you let the limit go to infinity, $f(\\mu) \\propto 1$, you get a posterior $\\mu \\mid \\tilde{y} \\sim N(\\bar{y},\\frac{\\sigma^2}{n})$. Again, the MLE.\n",
    "\n",
    "For sigma unknown, $f(\\sigma^2)\\propto \\frac{1}{\\sigma^2}$, which is $\\Gamma^{-1}(0,0)$, uniform on the log scale of sigma^2. You get a posterior $\\sigma^2 \\mid \\tilde{y} \\sim \\Gamma^{-1}\\left(\\frac{n-1}{2},\\frac{1}{2} \\Sigma(y_i-\\bar{y})^2\\right)$"
   ]
  },
  {
   "cell_type": "markdown",
   "metadata": {},
   "source": [
    "## Lesson 11-2: Jeffreys Prior\n",
    "\n",
    "we saw a $f(\\sigma^2) \\propto \\frac{1}{\\sigma^2}$, uniform on log scale.\n",
    "\n",
    "What if we chose a uniform prior on a normal scale, $f(\\sigma^2) \\propto 1$? You will end up with a different prior. Another way of saying this is that priors are not transformation invariant depending on the parameterisation.\n",
    "\n",
    "The Jeffreys Prior is a way around this. It's $f(\\theta)\\propto\\sqrt{I(\\theta)}$, where I is the Fisher information.\n",
    "\n",
    "For Normal:  $f(\\mu) \\propto 1$, $f(\\sigma^2)\\propto \\frac{1}{\\sigma^2}$\n",
    "\n",
    "For Bernoulli: $Beta(0.5,0.5)$ (rare proper)\n",
    "\n",
    "Empirical Bayes is using data to set prior. Sort of cheating though right?"
   ]
  },
  {
   "cell_type": "markdown",
   "metadata": {},
   "source": [
    "## Lesson 12: Linear Regression\n",
    "\n",
    "Challenger Dataset"
   ]
  },
  {
   "cell_type": "code",
   "execution_count": 17,
   "metadata": {},
   "outputs": [
    {
     "data": {
      "text/html": [
       "<div>\n",
       "<style scoped>\n",
       "    .dataframe tbody tr th:only-of-type {\n",
       "        vertical-align: middle;\n",
       "    }\n",
       "\n",
       "    .dataframe tbody tr th {\n",
       "        vertical-align: top;\n",
       "    }\n",
       "\n",
       "    .dataframe thead th {\n",
       "        text-align: right;\n",
       "    }\n",
       "</style>\n",
       "<table border=\"1\" class=\"dataframe\">\n",
       "  <thead>\n",
       "    <tr style=\"text-align: right;\">\n",
       "      <th></th>\n",
       "      <th>T</th>\n",
       "      <th>I</th>\n",
       "    </tr>\n",
       "  </thead>\n",
       "  <tbody>\n",
       "    <tr>\n",
       "      <th>0</th>\n",
       "      <td>53</td>\n",
       "      <td>11</td>\n",
       "    </tr>\n",
       "    <tr>\n",
       "      <th>1</th>\n",
       "      <td>57</td>\n",
       "      <td>4</td>\n",
       "    </tr>\n",
       "    <tr>\n",
       "      <th>2</th>\n",
       "      <td>58</td>\n",
       "      <td>4</td>\n",
       "    </tr>\n",
       "    <tr>\n",
       "      <th>3</th>\n",
       "      <td>63</td>\n",
       "      <td>2</td>\n",
       "    </tr>\n",
       "    <tr>\n",
       "      <th>4</th>\n",
       "      <td>66</td>\n",
       "      <td>0</td>\n",
       "    </tr>\n",
       "    <tr>\n",
       "      <th>5</th>\n",
       "      <td>67</td>\n",
       "      <td>0</td>\n",
       "    </tr>\n",
       "    <tr>\n",
       "      <th>6</th>\n",
       "      <td>67</td>\n",
       "      <td>0</td>\n",
       "    </tr>\n",
       "    <tr>\n",
       "      <th>7</th>\n",
       "      <td>67</td>\n",
       "      <td>0</td>\n",
       "    </tr>\n",
       "    <tr>\n",
       "      <th>8</th>\n",
       "      <td>68</td>\n",
       "      <td>0</td>\n",
       "    </tr>\n",
       "    <tr>\n",
       "      <th>9</th>\n",
       "      <td>69</td>\n",
       "      <td>0</td>\n",
       "    </tr>\n",
       "    <tr>\n",
       "      <th>10</th>\n",
       "      <td>70</td>\n",
       "      <td>4</td>\n",
       "    </tr>\n",
       "    <tr>\n",
       "      <th>11</th>\n",
       "      <td>70</td>\n",
       "      <td>0</td>\n",
       "    </tr>\n",
       "    <tr>\n",
       "      <th>12</th>\n",
       "      <td>70</td>\n",
       "      <td>4</td>\n",
       "    </tr>\n",
       "    <tr>\n",
       "      <th>13</th>\n",
       "      <td>70</td>\n",
       "      <td>0</td>\n",
       "    </tr>\n",
       "    <tr>\n",
       "      <th>14</th>\n",
       "      <td>72</td>\n",
       "      <td>0</td>\n",
       "    </tr>\n",
       "    <tr>\n",
       "      <th>15</th>\n",
       "      <td>73</td>\n",
       "      <td>0</td>\n",
       "    </tr>\n",
       "    <tr>\n",
       "      <th>16</th>\n",
       "      <td>75</td>\n",
       "      <td>0</td>\n",
       "    </tr>\n",
       "    <tr>\n",
       "      <th>17</th>\n",
       "      <td>75</td>\n",
       "      <td>4</td>\n",
       "    </tr>\n",
       "    <tr>\n",
       "      <th>18</th>\n",
       "      <td>76</td>\n",
       "      <td>0</td>\n",
       "    </tr>\n",
       "    <tr>\n",
       "      <th>19</th>\n",
       "      <td>76</td>\n",
       "      <td>0</td>\n",
       "    </tr>\n",
       "    <tr>\n",
       "      <th>20</th>\n",
       "      <td>78</td>\n",
       "      <td>0</td>\n",
       "    </tr>\n",
       "    <tr>\n",
       "      <th>21</th>\n",
       "      <td>79</td>\n",
       "      <td>0</td>\n",
       "    </tr>\n",
       "    <tr>\n",
       "      <th>22</th>\n",
       "      <td>81</td>\n",
       "      <td>0</td>\n",
       "    </tr>\n",
       "  </tbody>\n",
       "</table>\n",
       "</div>"
      ],
      "text/plain": [
       "     T   I\n",
       "0   53  11\n",
       "1   57   4\n",
       "2   58   4\n",
       "3   63   2\n",
       "4   66   0\n",
       "5   67   0\n",
       "6   67   0\n",
       "7   67   0\n",
       "8   68   0\n",
       "9   69   0\n",
       "10  70   4\n",
       "11  70   0\n",
       "12  70   4\n",
       "13  70   0\n",
       "14  72   0\n",
       "15  73   0\n",
       "16  75   0\n",
       "17  75   4\n",
       "18  76   0\n",
       "19  76   0\n",
       "20  78   0\n",
       "21  79   0\n",
       "22  81   0"
      ]
     },
     "execution_count": 17,
     "metadata": {},
     "output_type": "execute_result"
    }
   ],
   "source": [
    "df = pd.read_csv('Challenger2.csv')\n",
    "df"
   ]
  },
  {
   "cell_type": "code",
   "execution_count": 32,
   "metadata": {},
   "outputs": [
    {
     "data": {
      "image/png": "[encoded data removed]",
      "text/plain": [
       "<Figure size 432x288 with 1 Axes>"
      ]
     },
     "metadata": {
      "needs_background": "light"
     },
     "output_type": "display_data"
    }
   ],
   "source": [
    "plt.scatter(df['T'], df['I'], alpha = 0.3)\n",
    "plt.show()"
   ]
  },
  {
   "cell_type": "code",
   "execution_count": 31,
   "metadata": {
    "scrolled": false
   },
   "outputs": [
    {
     "name": "stdout",
     "output_type": "stream",
     "text": [
      "                            OLS Regression Results                            \n",
      "==============================================================================\n",
      "Dep. Variable:                      I   R-squared:                       0.412\n",
      "Model:                            OLS   Adj. R-squared:                  0.384\n",
      "Method:                 Least Squares   F-statistic:                     14.69\n",
      "Date:                Wed, 23 Jan 2019   Prob (F-statistic):           0.000968\n",
      "Time:                        15:20:32   Log-Likelihood:                -48.672\n",
      "No. Observations:                  23   AIC:                             101.3\n",
      "Df Residuals:                      21   BIC:                             103.6\n",
      "Df Model:                           1                                         \n",
      "Covariance Type:            nonrobust                                         \n",
      "==============================================================================\n",
      "                 coef    std err          t      P>|t|      [0.025      0.975]\n",
      "------------------------------------------------------------------------------\n",
      "Intercept     18.3651      4.439      4.138      0.000       9.135      27.596\n",
      "T             -0.2434      0.063     -3.833      0.001      -0.375      -0.111\n",
      "==============================================================================\n",
      "Omnibus:                        7.558   Durbin-Watson:                   1.466\n",
      "Prob(Omnibus):                  0.023   Jarque-Bera (JB):                5.542\n",
      "Skew:                           1.152   Prob(JB):                       0.0626\n",
      "Kurtosis:                       3.687   Cond. No.                         708.\n",
      "==============================================================================\n",
      "\n",
      "Warnings:\n",
      "[1] Standard Errors assume that the covariance matrix of the errors is correctly specified.\n"
     ]
    }
   ],
   "source": [
    "import statsmodels.formula.api as smf\n",
    "model = smf.ols('I ~ T',data=df)\n",
    "# model = smf.ols(df['I'],df['T'])\n",
    "results = model.fit()\n",
    "print(results.summary())"
   ]
  },
  {
   "cell_type": "markdown",
   "metadata": {},
   "source": [
    "Things to care about here:\n",
    "\n",
    "* Intercept and slope (T) coefficients and std errors for these\n",
    "* t and P>t if you're frequentist\n",
    "\n",
    "Residual std error doesn't seem to be there\n",
    "R^2 is .4"
   ]
  },
  {
   "cell_type": "code",
   "execution_count": 37,
   "metadata": {},
   "outputs": [
    {
     "data": {
      "image/png": "[encoded data removed]",
      "text/plain": [
       "<Figure size 432x288 with 1 Axes>"
      ]
     },
     "metadata": {
      "needs_background": "light"
     },
     "output_type": "display_data"
    }
   ],
   "source": [
    "plt.scatter(df['T'], df['I'], alpha = 0.3)\n",
    "x = np.linspace(53,76,100)\n",
    "y = -0.2434*x+18.3651\n",
    "plt.plot(x,y)\n",
    "plt.show()"
   ]
  },
  {
   "cell_type": "code",
   "execution_count": null,
   "metadata": {},
   "outputs": [],
   "source": []
  }
 ],
 "metadata": {
  "kernelspec": {
   "display_name": "Python 3",
   "language": "python",
   "name": "python3"
  },
  "language_info": {
   "codemirror_mode": {
    "name": "ipython",
    "version": 3
   },
   "file_extension": ".py",
   "mimetype": "text/x-python",
   "name": "python",
   "nbconvert_exporter": "python",
   "pygments_lexer": "ipython3",
   "version": "3.7.1"
  }
 },
 "nbformat": 4,
 "nbformat_minor": 2
}
