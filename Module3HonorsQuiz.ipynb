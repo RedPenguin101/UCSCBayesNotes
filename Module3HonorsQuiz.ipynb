{
 "cells": [
  {
   "cell_type": "markdown",
   "metadata": {},
   "source": [
    "# Module 3 Honors Quiz"
   ]
  },
  {
   "cell_type": "markdown",
   "metadata": {},
   "source": [
    "## Q1\n",
    "\n",
    "Identify which of the following conditions (possibly more than one) must be true for the sum of $n$ Bernoulli random variables (with success probability pp) to follow a binomial distribution.\n",
    "\n",
    "1. each Bernoulli random variable is independent of all others\n",
    "2. the sum must be greater than zero\n",
    "3. $p$ must be less than .5\n",
    "4. $p$ must be the same for each of the Bernoulli random variables\n",
    "5. the sum must exceed $n$"
   ]
  },
  {
   "cell_type": "markdown",
   "metadata": {},
   "source": [
    "### Answer\n",
    "1 and 4 are true"
   ]
  },
  {
   "cell_type": "markdown",
   "metadata": {},
   "source": [
    "For Questions 2-4, consider the following:\n",
    "\n",
    "In Lesson 6.3 we found the prior predictive distribution for a Bernoulli trial under a uniform prior on the success probability $\\theta$. We now derive the prior predictive distribution when the prior is any conjugate beta distribution.\n",
    "\n",
    "There are two straightforward ways to do this. The first approach is the same as in the lesson. The marginal distribution of $y$ is $f(y) = \\int_0^1 f(y|\\theta) f(\\theta) d\\theta$. \n",
    "\n",
    "Now $f(\\theta)$ is a beta PDF, but the same principles apply: we can move constants out of the integral and find a new normalizing constant to make the integral evaluate to 1.\n",
    "\n",
    "Another approach is to notice that we can write Bayes' theorem as $f(\\theta | y) = \\frac{f(y|\\theta)f(\\theta)}{f(y)}$ . If we multiply both sides by $f(y)$ and divide both sides by $f(\\theta | y)$, then we get $f(y) = \\frac{f(y|\\theta)f(\\theta)}{f(\\theta | y)}$ where $f(\\theta)$ is the beta prior PDF and $f(\\theta | y)$ is the updated beta posterior PDF.\n",
    "\n",
    "## Q2\n",
    "Both approaches yield the same answer. What is the prior predictive distribution $f(y)$ for this model when the prior for $\\theta$ is $\\text{Beta}(a,b)$?"
   ]
  },
  {
   "cell_type": "markdown",
   "metadata": {},
   "source": [
    "### Answer\n",
    "\n",
    "$$f(y) = \\int_0^1 f(y \\mid \\theta) f(\\theta) d\\theta = \\int_0^1 \\theta^y (1-\\theta)^{1-y} \\frac{\\Gamma(a+b)}{\\Gamma(a)\\Gamma(b)} \\theta^{a-1} (1-\\theta)^{b-1} d\\theta = \\int_0^1 \\frac{\\Gamma(a+b)}{\\Gamma(a)\\Gamma(b)} \\theta^{a+y-1} (1-\\theta)^{b-y} d\\theta$$\n",
    "\n",
    "Use $Z \\mid \\text{Beta}(a+y, b-y+1)$ which has\n",
    "\n",
    "$$f(Z) = \\frac{\\Gamma(a+b+1)}{\\Gamma(a+y)\\Gamma(b-y+1)} \\theta^{a+y-1} (1-\\theta)^{b-y+1-1}$$\n",
    "\n",
    "$$ \\frac{\\Gamma(a+b)}{\\Gamma(a)\\Gamma(b)} = \\frac{\\Gamma(a+b+1)}{\\Gamma(a+y)\\Gamma(b-y+1)} \\cdot \\frac{\\Gamma(a+y)\\Gamma(b-y+1)}{\\Gamma(a+b+1)} \\cdot \\frac{\\Gamma(a+b)}{\\Gamma(a)\\Gamma(b)}$$\n",
    "\n",
    "Sub this back in to get\n",
    "\n",
    "$$f(y) = \\frac{\\Gamma(a+y)\\Gamma(b-y+1)}{\\Gamma(a+b+1)} \\cdot \\frac{\\Gamma(a+b)}{\\Gamma(a)\\Gamma(b)} \\int_0^1 \\frac{\\Gamma(a+b+1)}{\\Gamma(a+y)\\Gamma(b-y+1)} \\theta^{a+y-1} (1-\\theta)^{b-y+1-1} d\\theta$$\n",
    "\n",
    "Last term integrates to 1 by definition so left with\n",
    "\n",
    "$$f(y) = \\frac{\\Gamma(a+y)\\Gamma(b-y+1)}{\\Gamma(a+b+1)} \\cdot \\frac{\\Gamma(a+b)}{\\Gamma(a)\\Gamma(b)} = \\frac{\\Gamma(a+b)}{\\Gamma(a+b+1)} \\cdot \\frac{\\Gamma(a+y)}{\\Gamma(a)} \\cdot \\frac{\\Gamma(b+1-y)}{\\Gamma(b)}$$"
   ]
  },
  {
   "cell_type": "markdown",
   "metadata": {},
   "source": [
    "## Q3\n",
    "Beta-Bernoulli predictive distribution:\n",
    "\n",
    "Now suppose the prior for $\\theta$ is $\\text{Beta}(2,2)$. What is the prior predictive probability that $y^*=1$? Round your answer to one decimal place."
   ]
  },
  {
   "cell_type": "markdown",
   "metadata": {},
   "source": [
    "Plugging this in to the above and recalling $\\Gamma(n) = (n-1)!$ we get\n",
    "\n",
    "$$f(y=1) = \\frac{\\Gamma(a+b)}{\\Gamma(a+b+1)} \\cdot \\frac{\\Gamma(a+y)}{\\Gamma(a)} \\cdot \\frac{\\Gamma(b+1-y)}{\\Gamma(b)} = \\frac{\\Gamma(4)}{\\Gamma(5)} \\cdot \\frac{\\Gamma(3)}{\\Gamma(2)} \\cdot \\frac{\\Gamma(2)}{\\Gamma(2)}  = \\frac{\\Gamma(4)}{\\Gamma(5)} \\cdot \\frac{\\Gamma(3)}{\\Gamma(2)} = \\frac{3!}{4!} \\cdot \\frac{2!}{1!} = \\frac{2}{4} = 0.5$$"
   ]
  },
  {
   "cell_type": "markdown",
   "metadata": {},
   "source": [
    "## Q4\n",
    "After specifying our $\\text{Beta}(2,2)$ prior for $\\theta$, we observe 10 Bernoulli trials, 3 of which are successes.\n",
    "\n",
    "What is the posterior predictive probability that $y^*=1$ for the next (11th) observation $y^*$? Round your answer to two decimal places."
   ]
  },
  {
   "cell_type": "markdown",
   "metadata": {},
   "source": [
    "The posterior $\\theta$ is \n",
    "\n",
    "$$\\theta \\mid \\tilde{y} \\sim \\text{Beta}(2+3,2+10-3) = \\text{Beta}(5,9)$$"
   ]
  },
  {
   "cell_type": "code",
   "execution_count": 10,
   "metadata": {},
   "outputs": [
    {
     "data": {
      "image/png": "[encoded data removed]",
      "text/plain": [
       "<Figure size 432x288 with 1 Axes>"
      ]
     },
     "metadata": {
      "needs_background": "light"
     },
     "output_type": "display_data"
    }
   ],
   "source": [
    "import numpy as np\n",
    "import matplotlib.pyplot as plt\n",
    "from scipy.stats import beta\n",
    "from scipy.stats import binom\n",
    "\n",
    "theta = np.linspace(0,1,101)\n",
    "\n",
    "ftheta0 = beta.pdf(theta, 2, 2)\n",
    "ftheta1 = beta.pdf(theta, 5, 9)\n",
    "results = binom.pmf(3,10,theta)*11.5\n",
    "\n",
    "plt.plot(theta, ftheta0, linestyle='dashed')\n",
    "plt.plot(theta, ftheta1, color='blue')\n",
    "plt.plot(theta, results,linestyle='dashed',color='red')\n",
    "plt.show()"
   ]
  },
  {
   "cell_type": "markdown",
   "metadata": {},
   "source": [
    "Didn't actually need to bother with all that, the probability of a success is determined by the Beta(5,9) functions, which can be thought of as having observed 5 sucesses and 9 failures. P(y*=1|y~) is therefore 5/(5+9)"
   ]
  },
  {
   "cell_type": "code",
   "execution_count": 11,
   "metadata": {},
   "outputs": [
    {
     "data": {
      "text/plain": [
       "0.35714285714285715"
      ]
     },
     "execution_count": 11,
     "metadata": {},
     "output_type": "execute_result"
    }
   ],
   "source": [
    "5/14"
   ]
  },
  {
   "cell_type": "code",
   "execution_count": null,
   "metadata": {},
   "outputs": [],
   "source": []
  }
 ],
 "metadata": {
  "kernelspec": {
   "display_name": "Python 3",
   "language": "python",
   "name": "python3"
  },
  "language_info": {
   "codemirror_mode": {
    "name": "ipython",
    "version": 3
   },
   "file_extension": ".py",
   "mimetype": "text/x-python",
   "name": "python",
   "nbconvert_exporter": "python",
   "pygments_lexer": "ipython3",
   "version": "3.7.1"
  }
 },
 "nbformat": 4,
 "nbformat_minor": 2
}
