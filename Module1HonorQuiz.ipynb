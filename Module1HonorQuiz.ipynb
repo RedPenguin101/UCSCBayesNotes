{
 "cells": [
  {
   "cell_type": "markdown",
   "metadata": {},
   "source": [
    "# Module 1 Honor Quiz\n",
    "\n",
    "**Question 1:** Which of the following (possibly more than one) must be true if random variable $X$ is continuous with PDF $f(x)$?\n",
    "\n",
    "\n",
    "1. $\\int_{-\\infty}^\\infty f(x) dx $ = 1\n",
    "2. $f(x)$ is a continuous function\n",
    "3. $X \\geq 0$ always\n",
    "4. $f(x) \\geq 0$ always\n",
    "5. $\\lim_{x \\to \\infty} f(x) = \\infty$\n",
    "6. $f(x)$ is an increasing function of $x$"
   ]
  },
  {
   "cell_type": "markdown",
   "metadata": {},
   "source": [
    "1. is true - this is equivalent to saying the sum of all probabilities is 1\n",
    "2. Think this is true - intuitively a function of a continuous variable must be continuous\n",
    "\n",
    "**Correction: 2 is FALSE. A counterexample is the uniform distribution which jumps to and from 0 at 2 points**\n",
    "\n",
    "3. This is false - think of a normal distribution where the x value can be negative \n",
    "4. This is true - you can't have a negative probability. \n",
    "5. This is false - it's equivalent to saying the probability of an event grows to infinity as the x grows, in all likelylook it tends to 0.\n",
    "6. Think this is false; as above a function is more likely to decline after a certain X value (E(X)) than increase. "
   ]
  },
  {
   "cell_type": "markdown",
   "metadata": {},
   "source": [
    "**Question 2:** If $X \\sim \\text{Exp}(3)$, what is the value of $P(X>1/3)$? Round your answer to two decimal places."
   ]
  },
  {
   "cell_type": "markdown",
   "metadata": {},
   "source": [
    "Need to integrate $f(x)$ over the range $1/3$ to $\\infty$\n",
    "\n",
    "$$f(x) = \\lambda e^{-\\lambda x}$$\n",
    "\n",
    "$$P(X \\gt 1/3) = \\int_{1/3}^\\infty \\lambda e^{-\\lambda x} = \\left[ -e^{-\\lambda x} \\right]_{1/3}^\\infty$$"
   ]
  },
  {
   "cell_type": "code",
   "execution_count": 2,
   "metadata": {},
   "outputs": [
    {
     "data": {
      "text/plain": [
       "0.36787944117144233"
      ]
     },
     "execution_count": 2,
     "metadata": {},
     "output_type": "execute_result"
    }
   ],
   "source": [
    "import numpy as np\n",
    "lam = 3\n",
    "x = np.inf\n",
    "y = 1/3\n",
    "(-np.exp(-lam*(x)))-(-np.exp(-lam*(y)))"
   ]
  },
  {
   "cell_type": "markdown",
   "metadata": {},
   "source": [
    "**Question 3**: Suppose $X \\sim \\text{Uniform}(0,2)$ and $Y \\sim \\text{Uniform}(8,10)$. What is the value of $E(4X + Y)$?"
   ]
  },
  {
   "cell_type": "markdown",
   "metadata": {},
   "source": [
    "$$E[X] = \\frac{0+2}{2} = 1$$\n",
    "\n",
    "$$E[Y] = \\frac{8+10}{2} = 9$$\n",
    "\n",
    "$$E(4X + Y) = 4E(X)+E(Y) = 4 \\cdot 1 + 9 = 13$$"
   ]
  },
  {
   "cell_type": "markdown",
   "metadata": {},
   "source": [
    "For questions 4-7 consider the following:\n",
    "\n",
    "Suppose $X \\sim \\text{N}(1, 5^2)$ and $Y \\sim \\text{N}(-2, 3^2)$ and that $X$ and $Y$ are independent. We have $Z = X + Y \\sim \\text{N}(\\mu, \\sigma^2)$ because the sum of normal random variables also follows a normal distribution."
   ]
  },
  {
   "cell_type": "markdown",
   "metadata": {},
   "source": [
    "**Question 4:** what is the value of $\\mu$?\n",
    "\n",
    "**Question 5:** what is the value $\\sigma^2$?"
   ]
  },
  {
   "cell_type": "markdown",
   "metadata": {},
   "source": [
    "If $X_1 \\sim N(\\mu_1, \\sigma_1^2)$ and  $X_2 \\sim N(\\mu_2, \\sigma_2^2)$ then $ X_1 + X_2 \\sim N(\\mu_1+\\mu_2, \\sigma_1^2 + \\sigma_2^2) $"
   ]
  },
  {
   "cell_type": "markdown",
   "metadata": {},
   "source": [
    "$$Z \\sim N(1-2,5^2 + 3^2)$$\n",
    "$$Z \\sim N(-1,34)$$"
   ]
  },
  {
   "cell_type": "markdown",
   "metadata": {},
   "source": [
    "**Question 6:** If random variables $X$ and $Y$ are *not* independent, we still have $$E(X+Y) = E(X) + E(Y)$$, \n",
    "but now $$\\text{Var}(X + Y) = \\text{Var}(X) + \\text{Var}(Y) + 2\\text{Cov}(X, Y)$$ where $$\\text{Cov}(X,Y) = E[(X - E[X]) (Y - E[Y]) ]$$ is called the covariance between $X$ and $Y$."
   ]
  },
  {
   "cell_type": "markdown",
   "metadata": {},
   "source": [
    "A \"convenient\" formula for calculating variance was given in the supplementary material: $$Var(X) = E[ (X - E[X])^2 ] = E[X^2] - (E[X])^2$$\n",
    "\n",
    "Which of the following is an analogous expression for the covariance of $X$ and $Y$?"
   ]
  },
  {
   "cell_type": "markdown",
   "metadata": {},
   "source": [
    "1. $E[X^2]−(E[X])^2+E[Y^2]−(E[Y])^2$\n",
    "2. $E[Y^2]−(E[Y])^2$\n",
    "3. $E(XY)−E(X)E(Y)$\n",
    "4. $(E[X^2]−(E[X])^2)\\cdot(E[Y^2]−(E[Y])^2)$"
   ]
  },
  {
   "cell_type": "markdown",
   "metadata": {},
   "source": [
    "$$Cov(X+Y) = E[(X-E[X])(Y-E[Y])]$$\n",
    "$$=E[XY+E[X]E[Y]-XE[Y]-YE[X]]$$\n",
    "$$=E[XY]+E[X]E[Y]-E[X]E[Y]-E[Y]E[X]$$\n",
    "$$=E[XY]-E[X]E[Y]$$\n",
    "\n",
    "Three!"
   ]
  },
  {
   "cell_type": "markdown",
   "metadata": {},
   "source": [
    "**Question 7**: Consider again $X \\sim \\text{N}(1, 5^2)$ and $Y \\sim \\text{N}(-2, 3^2)$, but this time $X$ and $Y$ are not independent. Then $Z = X+Y$ is still normally distributed with the same mean found in Question 4. What is the variance of $Z$ if $E(XY) = -5$?"
   ]
  },
  {
   "cell_type": "markdown",
   "metadata": {},
   "source": [
    "$$Var[X+Y] = Var[X] + Var[Y] + 2E(XY)−2E(X)E(Y)$$"
   ]
  },
  {
   "cell_type": "code",
   "execution_count": 8,
   "metadata": {},
   "outputs": [
    {
     "data": {
      "text/plain": [
       "28"
      ]
     },
     "execution_count": 8,
     "metadata": {},
     "output_type": "execute_result"
    }
   ],
   "source": [
    "5**2 + 3**2 + (2*-5) - (2*1*-2)"
   ]
  },
  {
   "cell_type": "markdown",
   "metadata": {},
   "source": [
    "**Question 8:**\n",
    "\n",
    "A) Use the definition of conditional probability to show that for events $A$ and $B$, we have $P(A \\cap B) = P(B|A)P(A) = P(A|B)P(B)$."
   ]
  },
  {
   "cell_type": "code",
   "execution_count": null,
   "metadata": {},
   "outputs": [],
   "source": []
  },
  {
   "cell_type": "markdown",
   "metadata": {},
   "source": [
    "B) Show that the two expressions for independence $P(A|B) = P(A)P(A∣B)=P(A)$ and $P(A \\cap B) = P(A) P(B)$ are equivalent."
   ]
  },
  {
   "cell_type": "code",
   "execution_count": null,
   "metadata": {},
   "outputs": [],
   "source": []
  }
 ],
 "metadata": {
  "kernelspec": {
   "display_name": "Python 3",
   "language": "python",
   "name": "python3"
  },
  "language_info": {
   "codemirror_mode": {
    "name": "ipython",
    "version": 3
   },
   "file_extension": ".py",
   "mimetype": "text/x-python",
   "name": "python",
   "nbconvert_exporter": "python",
   "pygments_lexer": "ipython3",
   "version": "3.7.1"
  }
 },
 "nbformat": 4,
 "nbformat_minor": 2
}
