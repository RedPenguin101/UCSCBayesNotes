{
 "cells": [
  {
   "cell_type": "markdown",
   "metadata": {},
   "source": [
    "# USCS Bayesian Statistics Course, course notes\n",
    "\n",
    "## Modules\n",
    "1. Probability and Bayes Theorem\n",
    "2. Statistical Inference\n",
    "3. Priors and models for Discrete Data\n",
    "4. Models for continuous data"
   ]
  },
  {
   "cell_type": "markdown",
   "metadata": {},
   "source": [
    "## Module 1 notes\n",
    "\n",
    "2 main philosophies of stats: Bayesian and Frequentist\n",
    "\n",
    "Frequentist is the one usually taught. Bayesian is better for dealing with uncertainty (quantifying and combining)\n",
    "\n",
    "In module 1 we:\n",
    "* understand the different definition of probability\n",
    "* understand the meaning of conditional probablity\n",
    "* compute CP using Bayes' theorem\n",
    "* understand probability distributions, including probability density functions\n",
    "* compute probabilities of outcomes for basic distributions"
   ]
  },
  {
   "cell_type": "markdown",
   "metadata": {},
   "source": [
    "### Background reading for lesson 1: Basic rules of probability\n",
    "\n",
    "Probablities are given for events. Events are usually denotes as a capital letter (A).\n",
    "\n",
    "If the event is the probability of rolling a 4 on a die, this might be denoted as `P(A) = 1/6`\n",
    "\n",
    "Probabilities can be any value between 0 and 1 inclusive.\n",
    "\n",
    "The sum of all possible probabilities is 1.\n",
    "\n",
    "\\begin{equation*}\n",
    "\\sum_{i=1}^6 P(X = i) = 1\n",
    "\\end{equation*}\n",
    "\n",
    "The **complement** of an event `A^c` means the event does not happen. `P(A^c) = 1 - P(A)`\n",
    "\n",
    "`u` denotes **union**, or 'or'\n",
    "`n` denotes **intersection**, or 'and'\n",
    "\n",
    "The probability of A or B happening is the probability of A happening, plus the probability of B happening, minus the probability of A and B happening (to avoid double counting that scenario). \n",
    "\n",
    "\\begin{equation*}\n",
    "P(A \\cup B) = P(A) + P(B) - P(A \\cap B)\n",
    "\\end{equation*}\n",
    "\n",
    "If a set of events Ai are mutually exclusive (only one can happen) then the the union of probabilities (any one of them happening) is the sum of the probabilities of any one of them happening (this is a generalisation of the rule above because `P(A_x n A_y) = 0`\n",
    "\n",
    "\\begin{equation*}\n",
    "P \\left(\\bigcup_{i-1}^m A_i \\right) = \\sum_{i=1}^m P(A_i)\n",
    "\\end{equation*}\n",
    "\n",
    "\n",
    "\n"
   ]
  },
  {
   "cell_type": "markdown",
   "metadata": {},
   "source": [
    "#### Odds\n",
    "\n",
    "Probabilities can be re-expressed as odds.\n",
    "\n",
    "\\begin{equation*}\n",
    "\\omicron(A) = P(A)/P(A^c) = P(A)/(1-P(A))\n",
    "\\end{equation*}\n",
    "\n",
    "So if the probability of rolling a 4 on a dice is 1/6, the odds are (1/6)/(5/6), or 1/5. Usually expressed as 1:5 odds, or 5:1 odds against.\n",
    "\n",
    "You can calculate probabilities from odds a:b by\n",
    "\n",
    "`P(B) = a/(a+b)`"
   ]
  },
  {
   "cell_type": "markdown",
   "metadata": {},
   "source": [
    "#### Expectation\n",
    "\n",
    "The **Expected value** or **EV** of X is a weighted average of the possible values of X.\n",
    "\n",
    "\\begin{equation*}\n",
    "E(X) = \\sum_{i=1}^n x_i \\cdot P(X = x_i)\n",
    "\\end{equation*}\n",
    "\n",
    "Note the EV might not be a value that is literally achievable"
   ]
  },
  {
   "cell_type": "markdown",
   "metadata": {},
   "source": [
    "### Classical and frequentist probability frameworks\n",
    " \n",
    "Classical: outcomes that are equally likely have equal probabilities. Works well when you HAVE equally likely outcomes. Dice and stuff\n",
    "\n",
    "Frequentist: Take a hypothetical infinite series of events, look at relative frequency of events in the sequence. Works well when you can define a hypothetical infinite sequence. But can get weird, tries to be objective but runs into philosophical issues. Like can be forced into binary outcomes. \n",
    "\n",
    "\n",
    "### Bayesian probability and coherence\n",
    "\n",
    "Based on the **personal** perspective. Takes into account what **you know**. A subjective approach, leads to more intuative results in many cases\n",
    "\n",
    "#### Examples:\n",
    "\n",
    "You survey 100 dental patients and find that 43 have received a filling within the last year. You conclude that the probability of needing a filling in any given year is .43.\n",
    "*Frequentist Approach*\n",
    "\n",
    "You consider results from past elections, factoring in demographic changes as well as your colleague’s appeal in your community before concluding that she has a 3/4 chance of winning an upcoming election.\n",
    "*Bayesian Approach - this probability is based on a synthesis of evidence and personal judgment regarding that evidence.*\n",
    "\n",
    "Consider the following game: \n",
    "You flip a fair coin. If the result is heads you win USD 3. If the result is tails you lose USD 4. Is this a fair game? *No, the expected value is negative.*"
   ]
  },
  {
   "cell_type": "code",
   "execution_count": 1,
   "metadata": {},
   "outputs": [
    {
     "data": {
      "text/plain": [
       "-0.5"
      ]
     },
     "execution_count": 1,
     "metadata": {},
     "output_type": "execute_result"
    }
   ],
   "source": [
    "# calculate expected value\n",
    "# odds are 1:1\n",
    "EV = 3*0.5 - 4*0.5\n",
    "EV"
   ]
  },
  {
   "cell_type": "markdown",
   "metadata": {},
   "source": [
    "Representing uncertainty with probability: Don’t use any outside information on this question, just determine probabilities subjectively.\n",
    "\n",
    "The country of Chile is divided administratively into 15 regions. The size of the country is 756,096 square kilometers. How big do you think the region of Atacama is? Let A_1 be the event that Atacama is less than 10,000 square kilometers. Let A_2 be the event that Atacama is between 10,000 and 50,000 square kilometers. Let A_3 be the event that Atacama is between 50,000 and 100,000 square kilometers. Let A_4 be the event that Atacama is more than 100,000 square kilometers. Assign probabilities to A_1,…,A_4."
   ]
  },
  {
   "cell_type": "code",
   "execution_count": 2,
   "metadata": {},
   "outputs": [
    {
     "data": {
      "text/plain": [
       "50406.4"
      ]
     },
     "execution_count": 2,
     "metadata": {},
     "output_type": "execute_result"
    }
   ],
   "source": [
    "756096/15"
   ]
  },
  {
   "cell_type": "code",
   "execution_count": 3,
   "metadata": {},
   "outputs": [],
   "source": [
    "a1 = 0.1\n",
    "a2 = 0.4\n",
    "a3 = 0.4\n",
    "a4 = 0.1"
   ]
  },
  {
   "cell_type": "markdown",
   "metadata": {},
   "source": [
    "Atacama is the fourth largest of 15 regions. Using this information, revise your probabilities."
   ]
  },
  {
   "cell_type": "code",
   "execution_count": 4,
   "metadata": {},
   "outputs": [],
   "source": [
    "a1 = 0.1\n",
    "a2 = 0.1\n",
    "a3 = 0.4\n",
    "a4 = 0.4"
   ]
  },
  {
   "cell_type": "markdown",
   "metadata": {},
   "source": [
    "The smallest region is the capital region, Santiago Metropolitan, which has an area of 15,403 square kilometers. Using this information, revise your probabilities."
   ]
  },
  {
   "cell_type": "code",
   "execution_count": 5,
   "metadata": {},
   "outputs": [
    {
     "data": {
      "text/plain": [
       "52906.642857142855"
      ]
     },
     "execution_count": 5,
     "metadata": {},
     "output_type": "execute_result"
    }
   ],
   "source": [
    "A = 756096-15403\n",
    "A/14"
   ]
  },
  {
   "cell_type": "code",
   "execution_count": 6,
   "metadata": {},
   "outputs": [],
   "source": [
    "a1 = 0 \n",
    "a2 = 0.2\n",
    "a3 = 0.4\n",
    "a4 = 0.4"
   ]
  },
  {
   "cell_type": "markdown",
   "metadata": {},
   "source": [
    "The third largest region is Aysén del General Carlos Ibáñez del Campo, which has an area of 108,494 square kilometers. Using this information, revise your probabilities."
   ]
  },
  {
   "cell_type": "code",
   "execution_count": 7,
   "metadata": {},
   "outputs": [],
   "source": [
    "a1 = 0 \n",
    "a2 = 0.1\n",
    "a3 = 0.9\n",
    "a4 = 0"
   ]
  },
  {
   "cell_type": "markdown",
   "metadata": {},
   "source": [
    "### Quiz 1\n",
    "\n",
    "1. If you randomly guess on this question, you have a .25 probability of being correct. Which probabilistic paradigm from Lesson 1 does this argument best demonstrate? **classical**\n",
    "2. On a multiple choice test, you do not know the answer to a question with three alternatives. One of the options, however, contains a keyword which the professor used disproportionately often during lecture. Rather than randomly guessing, you select the option containing the keyword, supposing you have a better than 1/3 chance of being correct. Which probabilistic paradigm from Lesson 1 does this argument best demonstrate? **Bayesian**\n",
    "3. On average, one in three students at your school participates in extracurricular activities. You conclude that the probability that a randomly selected student from your school participates is 1/3. Which probabilistic paradigm from Lesson 1 does this argument best demonstrate? **Frequentist**\n",
    "\n",
    "Your friend offers a bet that she can beat you in a game of chess. If you win, she owes you USD 5, but if she wins, you owe her USD 3.\n",
    "\n",
    "4. Suppose she is 100% confident that she will beat you. What is her expected return for this game?\n",
    "**3**\n",
    "5. Suppose she is only 50% confident that she will beat you (her personal probability of winning is p=0.5). What is her expected return now?"
   ]
  },
  {
   "cell_type": "code",
   "execution_count": 8,
   "metadata": {},
   "outputs": [
    {
     "data": {
      "text/plain": [
       "-1.0"
      ]
     },
     "execution_count": 8,
     "metadata": {},
     "output_type": "execute_result"
    }
   ],
   "source": [
    "3*.5 - 5 * .5"
   ]
  },
  {
   "cell_type": "markdown",
   "metadata": {},
   "source": [
    "6. Now assuming your friend will only agree to fair bets (expected return of 0), find her personal probability that she will win. Report your answer as a simplified fraction.\n",
    "\n",
    "`(3*x)-(5*(1-x))=0`\n",
    "\n",
    "`3x=5-5x`\n",
    "\n",
    "`8x=5`\n",
    "\n",
    "`x=5/8`"
   ]
  },
  {
   "cell_type": "code",
   "execution_count": 9,
   "metadata": {},
   "outputs": [
    {
     "data": {
      "text/plain": [
       "0.625"
      ]
     },
     "execution_count": 9,
     "metadata": {},
     "output_type": "execute_result"
    }
   ],
   "source": [
    "5/8"
   ]
  },
  {
   "cell_type": "markdown",
   "metadata": {},
   "source": [
    "Suppose your friend offers a pair of bets:\n",
    "\n",
    "(i) if it rains or is overcast tomorrow, you pay him 4, otherwise he pays you 6;\n",
    "\n",
    "(ii) if it is sunny you pay him 5, otherwise he pays you 5.\n",
    "\n",
    "7. Suppose rain, overcast, and sunny are the only events in consideration. If you make both bets simultaneously, this is called a \"Dutch book,\" as you are guaranteed to win money. How much do you win regardless of the outcome?\n",
    "\n",
    "Sunny: 6 - 5 = 1\n",
    "Overcast: -4 + 5 = 1\n",
    "Rain: -4 + 5 = 1\n",
    "\n",
    "8. Apparently your friend doesn't understand the laws of probability. Let's examine the bets he offered. For bet (i) to be fair, his probability that it rains or is overcast must be .6 (you can verify this by calculating his expected return and setting it equal to 0). For bet (ii) to be fair, his probability that it will be sunny must be .5. This results in a \"Dutch book\" because your friend's probabilities are not coherent. They do not add up to 1. What do they add up to?\n",
    "\n",
    "`1.1`"
   ]
  },
  {
   "cell_type": "markdown",
   "metadata": {},
   "source": [
    "### Bayes Theorem / Conditional probability\n",
    "\n",
    "Considering 2 events that are related to eachother. What is probability of event A given that we know event B happened?\n",
    "\n",
    "\\begin{equation*}\n",
    "P(A|B) = \\frac{P(A \\cap B)}{P(B)}\n",
    "\\end{equation*}\n",
    "\n"
   ]
  },
  {
   "cell_type": "markdown",
   "metadata": {},
   "source": [
    "consider a class of 30 students, 9 female, 12 compsci (of which 4 are female).\n",
    "\n",
    "| .             | Female | Not Female | TOTAL |\n",
    "|--------------|--------|------------|-------|\n",
    "| CS Major     | 4      | *8*          | 12    |\n",
    "| Not CS Major | *5*      | *13*         | *18*    |\n",
    "| TOTAL        | 9      | *21*         | 30    |"
   ]
  },
  {
   "cell_type": "markdown",
   "metadata": {},
   "source": [
    "$P(F) = \\frac{9}{30} = \\frac{3}{10}$\n",
    "\n",
    "$P(CS) = \\frac{12}{30} = \\frac{2}{5}$\n",
    "\n",
    "$P(F \\cap CS) = \\frac{4}{30} = \\frac{2}{15} $\n",
    "\n",
    "What is the value of $P(CS \\cap F^C)$, the probability that a student is a computer science major and not female? Report your answer as a simplified fraction\n",
    "\n",
    "8/30, or 4/15"
   ]
  },
  {
   "cell_type": "markdown",
   "metadata": {},
   "source": [
    "What is the probability that someone is female, given they are a CS major?\n",
    "\n",
    "$$ P(F|CS) = \\frac{P(F \\cap CS)}{P(CS)} = \\frac{2/15}{2/5} $$"
   ]
  },
  {
   "cell_type": "code",
   "execution_count": 10,
   "metadata": {},
   "outputs": [
    {
     "data": {
      "text/plain": [
       "0.3333333333333333"
      ]
     },
     "execution_count": 10,
     "metadata": {},
     "output_type": "execute_result"
    }
   ],
   "source": [
    "(2/15) / (2/5)\n",
    "#1/3"
   ]
  },
  {
   "cell_type": "markdown",
   "metadata": {},
   "source": [
    "This is equivalent to the 4/12 numbers from the table above. An intuitive way to think about CP is that we are taking a subsegement of the population and asking questions about probability within that subsegment\n",
    "\n",
    "#### Independence\n",
    "Idea that 2 events do not impact eachother. Mathematically: $P(A|B) = P(A)$\n",
    "\n",
    "When A and B are independent then $P(A \\cap B) = P(A)P(B)$ (This is super useful)\n",
    "\n",
    "Note $P(F|CS) \\neq P(F)$, so these are not independent\n",
    "\n",
    "#### Bayes Theorem\n",
    "Is used to reverse the direction of conditioning: writing P(A|B) in terms of P(B|A).\n",
    "\n",
    "$$ P(A|B) = \\frac{P(B|A)P(A)}{P(B|A)P(A) + P(B|A^C)P(A^C)} = \\frac{P(A \\cap B)}{P(B)} $$"
   ]
  },
  {
   "cell_type": "markdown",
   "metadata": {},
   "source": [
    "Back to the CS example:\n",
    "\n",
    "$$ P(CS|F) = \\frac{P(F|CS)}{P(F|CS)P(CS) + P(F|CS^C)P(CS^C)} $$\n",
    "\n",
    "$$ = \\frac{(1/3)(2/5)}{(1/3)(2/5) + (5/18)(18/30)} $$"
   ]
  },
  {
   "cell_type": "code",
   "execution_count": 11,
   "metadata": {},
   "outputs": [
    {
     "data": {
      "text/plain": [
       "0.4444444444444445"
      ]
     },
     "execution_count": 11,
     "metadata": {},
     "output_type": "execute_result"
    }
   ],
   "source": [
    "a = (1/3)*(2/5)\n",
    "b = a + (5/18)*(18/30)\n",
    "a/b\n",
    "#4/9"
   ]
  },
  {
   "cell_type": "markdown",
   "metadata": {},
   "source": [
    "Note: $P(F|CS) \\neq P(CS|F)$. Is this surprising? Why is that?"
   ]
  },
  {
   "cell_type": "markdown",
   "metadata": {},
   "source": [
    "#### The Eliza test for HIV\n",
    "$P(Pos | HIV) = .977$\n",
    "\n",
    "$P(Neg | NoHIV) = .926$\n",
    "\n",
    "So overall pretty good test right?\n",
    "\n",
    "$P(HIV) = .0026$\n",
    "\n",
    "What's the probability that if a random person tests positive, they have HIV?"
   ]
  },
  {
   "cell_type": "markdown",
   "metadata": {},
   "source": [
    "$$ P(HIV | Pos) = ?$$\n",
    "\n",
    "$$ x = P(Pos|HIV)P(HIV) = .997 * 0.0026$$\n",
    "\n",
    "$$P(Pos|NoHIV) = 1 - P(Neg|NoHIV) = (1-.926)$$\n",
    "\n",
    "$$ y = P(Pos|NoHIV)P(NoHIV) = (1-.926) * (1-0.0026)$$"
   ]
  },
  {
   "cell_type": "code",
   "execution_count": 12,
   "metadata": {},
   "outputs": [
    {
     "data": {
      "text/plain": [
       "0.03392940819216806"
      ]
     },
     "execution_count": 12,
     "metadata": {},
     "output_type": "execute_result"
    }
   ],
   "source": [
    "x = .997*.0026\n",
    "y = (1-.926)* (1-.0026)\n",
    "x/(x+y)"
   ]
  },
  {
   "cell_type": "markdown",
   "metadata": {},
   "source": [
    "If they test positive on a test that is 90% accurate, the probability that they have HIV is less than 4%!! Why? beacuse it's a very rare disiese."
   ]
  },
  {
   "cell_type": "markdown",
   "metadata": {},
   "source": [
    "Note: $P(A|B) = 1 - P(A^c|B)$"
   ]
  },
  {
   "cell_type": "markdown",
   "metadata": {},
   "source": [
    "How the Bayesian approach works in practice: You start with prior beliefs, you collect data, then you update your beliefs (posterior beliefs).\n",
    "\n",
    "### Lesson 2 Supplemental Reading\n",
    "\n",
    "The simplest Bayes Theorem formulae is for 2 discrete events:\n",
    "\n",
    "$$ P(A|B) = \\frac{P(B|A)P(A)}{P(B|A)P(A) + P(B|A^C)P(A^C)} = \\frac{P(A \\cap B)}{P(B)} $$\n",
    "\n",
    "For 3 events it becomes\n",
    "\n",
    "$$ P(A_1|B) = \\frac{P(B|A_1)P(A_1)}{P(B|A_1)P(A+1) + P(B|A_2)P(A_2) + P(B|A_3)P(A_3)} $$\n",
    "\n",
    "And both are specific cases of the general rule:\n",
    "\n",
    "$$ P(A_1|B) = \\frac{P(B|A_1)P(A_1)}{\\sum_{i=1}^n P(B|A_i)P(A_i)} $$\n",
    "\n",
    "For continuous variables you have to integrate."
   ]
  },
  {
   "cell_type": "markdown",
   "metadata": {},
   "source": [
    "### Lesson 2 Quiz\n",
    "\n",
    "For Questions 1-4, refer to the following table regarding passengers of the famous Titanic, which tragically sank on its maiden voyage in 1912. The table organizes passenger/crew counts according to the class of their ticket and whether they survived.\n",
    "\n",
    "| .              | 1st class | 2nd class | 3rd class | crew | TOTAL |\n",
    "|----------------|-----------|-----------|-----------|------|-------|\n",
    "| Survived       | 203       | 118       | 178       | 212  | 711   |\n",
    "| Didn't Survive | 122       | 167       | 528       | 673  | 1490  |\n",
    "| TOTAL          | 325       | 285       | 706       | 885  | 2201  |"
   ]
  },
  {
   "cell_type": "markdown",
   "metadata": {},
   "source": [
    "1. If we randomly select a person's name from the complete list of passengers and crew, what is the probability that this person travelled in 1st class? Round your answer to two decimal places.\n",
    "\n",
    "$P(C1)$"
   ]
  },
  {
   "cell_type": "code",
   "execution_count": 13,
   "metadata": {},
   "outputs": [
    {
     "data": {
      "text/plain": [
       "0.14766015447523853"
      ]
     },
     "execution_count": 13,
     "metadata": {},
     "output_type": "execute_result"
    }
   ],
   "source": [
    "325/2201"
   ]
  },
  {
   "cell_type": "markdown",
   "metadata": {},
   "source": [
    "2. What is the probability that a (randomly selected) person survived? Round your answer to two decimal places.\n",
    "\n",
    "$P(S)$"
   ]
  },
  {
   "cell_type": "code",
   "execution_count": 14,
   "metadata": {},
   "outputs": [
    {
     "data": {
      "text/plain": [
       "0.3230349840981372"
      ]
     },
     "execution_count": 14,
     "metadata": {},
     "output_type": "execute_result"
    }
   ],
   "source": [
    "711/2201"
   ]
  },
  {
   "cell_type": "markdown",
   "metadata": {},
   "source": [
    "3. What is the probability that a (randomly selected) person survived, given that they were in 1st class? Round your answer to two decimal places.\n",
    "\n",
    "$P(S|C1)$"
   ]
  },
  {
   "cell_type": "code",
   "execution_count": 15,
   "metadata": {},
   "outputs": [
    {
     "data": {
      "text/plain": [
       "0.6246153846153846"
      ]
     },
     "execution_count": 15,
     "metadata": {},
     "output_type": "execute_result"
    }
   ],
   "source": [
    "203/325"
   ]
  },
  {
   "cell_type": "markdown",
   "metadata": {},
   "source": [
    "4. True/False: The events concerning class and survival are statistically independent.\n",
    "\n",
    "False, because $P(S|C1) \\neq P(S)$"
   ]
  },
  {
   "cell_type": "markdown",
   "metadata": {},
   "source": [
    "For Questions 5-9, consider the following scenario: You have three bags, labeled A, B, and C. \n",
    "* Bag A contains two red marbles and three blue marbles. \n",
    "* Bag B contains five red marbles and one blue marble. \n",
    "* Bag C contains three red marbles only.\n",
    "\n",
    "5. If you select from bag B, what is the probability that you will draw a red marble? Express the exact answer as a simplified fraction.\n",
    "\n",
    "5/6\n",
    "\n",
    "6. If you randomly select one of the three bags with equal probability (so that $P(A)=P(B)=P(C)=1/3$ and then randomly draw a marble from that bag, what is the probability that the marble will be blue? Round your answer to two decimal places.\n",
    "\n",
    "Hint: This is the marginal probability $P(blue)$. You can obtain this using the law of total probability (which appears in the denominator in Bayes' theorem). \n",
    "\n",
    "$$P(blue)=P(blue∩A)+P(blue∩B)+P(blue∩C)=P(blue∣A)⋅P(A)+P(blue∣B)⋅P(B)+P(blue∣C)⋅P(C)$$"
   ]
  },
  {
   "cell_type": "code",
   "execution_count": 16,
   "metadata": {},
   "outputs": [
    {
     "data": {
      "text/plain": [
       "0.25555555555555554"
      ]
     },
     "execution_count": 16,
     "metadata": {},
     "output_type": "execute_result"
    }
   ],
   "source": [
    "A = 3/5\n",
    "B = 1/6\n",
    "C = 0\n",
    "(A+B+C) / 3"
   ]
  },
  {
   "cell_type": "markdown",
   "metadata": {},
   "source": [
    "7. Suppose a bag is randomly selected (again, with equal probability), but you do not know which it is. You randomly draw a marble and observe that it is blue. What is the probability that the bag you selected this marble from is A? That is, find $P(A∣blue)$. Round your answer to two decimal places."
   ]
  },
  {
   "cell_type": "markdown",
   "metadata": {},
   "source": [
    "$$ P(A_1|Blue) = \\frac{P(Blue|A_1)P(A_1)}{\\sum_{i=1}^3 P(Blue|A_i)P(A_i)} $$"
   ]
  },
  {
   "cell_type": "code",
   "execution_count": 17,
   "metadata": {},
   "outputs": [
    {
     "data": {
      "text/plain": [
       "0.782608695652174"
      ]
     },
     "execution_count": 17,
     "metadata": {},
     "output_type": "execute_result"
    }
   ],
   "source": [
    "a1 = 3/5 * 1/3\n",
    "a2 = 1/6 * 1/3\n",
    "a3 = 0\n",
    "\n",
    "a1/(a1+a2+a3)"
   ]
  },
  {
   "cell_type": "markdown",
   "metadata": {},
   "source": [
    "8. Suppose a bag is randomly selected (again, with equal probability), but you do not know which it is. You randomly draw a marble and observe that it is blue. What is the probability that the bag you selected from is C? That is, find $P(C∣blue)$. Round your answer to two decimal places.\n",
    "\n",
    "0.00 - there are no blue marbles in C\n",
    "\n",
    "9. Suppose a bag is randomly selected (again, with equal probability), but you do not know which it is. You randomly draw a marble and observe that it is red. What is the probability that the bag you selected from is C? That is, find $P(C∣red)$. Round your answer to two decimal places.\n",
    "\n",
    "$$ P(A_3|Red) = \\frac{P(Red|A_3)P(A_3)}{\\sum_{i=1}^3 P(Red|A_i)P(A_i)} $$"
   ]
  },
  {
   "cell_type": "code",
   "execution_count": 18,
   "metadata": {},
   "outputs": [
    {
     "data": {
      "text/plain": [
       "0.4477611940298507"
      ]
     },
     "execution_count": 18,
     "metadata": {},
     "output_type": "execute_result"
    }
   ],
   "source": [
    "a1 = 2/5 * 1/3\n",
    "a2 = 5/6 * 1/3\n",
    "a3 = 3/3 * 1/3\n",
    "\n",
    "a3/(a1+a2+a3)"
   ]
  },
  {
   "cell_type": "markdown",
   "metadata": {},
   "source": [
    "## Review of Distributions\n",
    "\n",
    "### Bernoulli\n",
    "Used when you have 2 possible outcomes: heads or tails, success or failure\n",
    "\n",
    "$X \\sim B(p)$\n",
    "\n",
    "(~ = is distributed as, p = probability of success. So that means X follows a bernoulli distribution with probability p)\n",
    "\n",
    "$P(X=1) = p$\n",
    "\n",
    "$P(X=0) = 1-p$\n",
    "\n",
    "What is the probability that X takes the specific value x, given a probability P\n",
    "\n",
    "$$ f(X=x|p) = f(x|p) = p^x (1-p)^{1-x} I_{\\{x \\in 0,1\\}}x$$\n",
    "\n",
    "*(Note the I in the above is an indicator, step or heavyside function: Takes value 1 when argument is true, 0 when false. Evaluates FIRST. Means you can avoid taking logs or sqrt of negative numbers.)*"
   ]
  },
  {
   "cell_type": "markdown",
   "metadata": {},
   "source": [
    "f(x) = x if <= 0, 2x if >= 0 can be written as a step function as \n",
    "\n"
   ]
  },
  {
   "cell_type": "markdown",
   "metadata": {},
   "source": [
    "$$f(x) = x + x I_{\\{x > 0 \\}}x$$"
   ]
  },
  {
   "cell_type": "markdown",
   "metadata": {},
   "source": [
    "#### Expected Value:\n",
    "$$E[X] = \\sum_x x P(X=x)$$\n",
    "For Bernoulli, super easy:\n",
    "$$(1)p + (0)(1-p) = p$$\n",
    "\n",
    "#### Varience\n",
    "$$ Var(X) = p(1-p)$$"
   ]
  },
  {
   "cell_type": "markdown",
   "metadata": {},
   "source": [
    "### Binomial\n",
    "Generalisation of Bernoulli when we have n repeated trials is a Binomial - the sum of n independent Bernoullis\n",
    "\n",
    "$X \\sim Bin(n,p)$\n",
    "\n",
    "$$P(X=x|p) = f(x|p) = {n \\choose x}p^x(1-p)^{n-x}I\\{x \\in 0,1,...,n\\}x$$\n",
    "\n",
    "$$ {n \\choose x} = \\frac{n!}{x!(n-x)!} $$\n",
    "\n",
    "What is the value of ${4 \\choose 3}$, commonly read as \"four choose three\"? This combinatoric term counts all possible Bernoulli sequences that result in three successes out of four trials."
   ]
  },
  {
   "cell_type": "code",
   "execution_count": 19,
   "metadata": {},
   "outputs": [
    {
     "data": {
      "text/plain": [
       "4.0"
      ]
     },
     "execution_count": 19,
     "metadata": {},
     "output_type": "execute_result"
    }
   ],
   "source": [
    "nf = 4*3*2*1\n",
    "xf = 3*2*1\n",
    "nxf = 1\n",
    "nf/(xf*nxf)"
   ]
  },
  {
   "cell_type": "markdown",
   "metadata": {},
   "source": [
    "This corresponds to the number of Bernoulli sequences that result in three successes out of four trials. In this case, those sequences are (1,1,1,0), (1,1,0,1), (1,0,1,1), and (0,1,1,1)."
   ]
  },
  {
   "cell_type": "markdown",
   "metadata": {},
   "source": [
    "$$E[X] = np $$\n",
    "$$Var(X) = np(1-p)$$"
   ]
  },
  {
   "cell_type": "markdown",
   "metadata": {},
   "source": [
    "### Quiz 3\n",
    "\n",
    "When using random variable notation, big X denotes:\n",
    "* **a random variable**\n",
    "* a conditional probability\n",
    "* distributed as\n",
    "* a realization of a random variable\n",
    "* the expectation of a random variable\n",
    "* approximately equal to\n",
    "\n",
    "When using random variable notation, little x denotes\n",
    "* a random variable\n",
    "* a conditional probability\n",
    "* distributed as\n",
    "* **a realization of a random variable**\n",
    "* the expectation of a random variable\n",
    "* approximately equal to\n",
    "\n",
    "When using random variable notation, X ~ denotes\n",
    "* a random variable\n",
    "* a conditional probability\n",
    "* **distributed as**\n",
    "* a realization of a random variable\n",
    "* the expectation of a random variable\n",
    "* approximately equal to\n",
    "\n",
    "What is the value of $f(x) = -5 I_{\\{x>2\\}}(x) + x I_{\\{x < -1\\}}(x)$ when x=3?\n",
    "\n",
    "-5\n",
    "\n",
    "when x = 0?\n",
    "\n",
    "0\n",
    "\n",
    "Which of the following scenarios could we appropriately model using a Bernoulli random variable?\n",
    "* Predicting the number of wins in a series of three games against a single opponent (ties count as losses)\n",
    "* Predicting the number of goals scored in a hockey match\n",
    "* **Predicting whether your hockey team wins its next game (tie counts as a loss)**\n",
    "* Predicting the weight of a typical hockey player\n",
    "\n",
    "Calculate the expected value of the following random variable: X takes on values $\\{ 0, 1, 2, 3 \\}$ with corresponding probabilities $\\{ 0.5, 0.2, 0.2, 0.1 \\}$ Round your answer to one decimal place."
   ]
  },
  {
   "cell_type": "code",
   "execution_count": 20,
   "metadata": {},
   "outputs": [
    {
     "data": {
      "text/plain": [
       "0.9000000000000001"
      ]
     },
     "execution_count": 20,
     "metadata": {},
     "output_type": "execute_result"
    }
   ],
   "source": [
    "(0*0.5)+(1*0.2)+(2*0.2)+(3*0.1)"
   ]
  },
  {
   "cell_type": "markdown",
   "metadata": {},
   "source": [
    "Which of the following scenarios could we appropriately model using a binomial random variable (with n > 1)?\n",
    "* Predicting whether your hockey team wins its next game (tie counts as a loss)\n",
    "* Predicting the number of goals scored in a hockey match\n",
    "* Predicting the weight of a typical hockey player\n",
    "* **Predicting the number of wins in a series of three games against a single opponent (ties count as losses)**\n",
    "\n",
    "Suppose $X \\sim \\text{Binomial}(3, 0.2)$. Calculate $P(X=0)$. Round your answer to two decimal places.\n",
    "\n",
    "$$P(X=x|p) = f(x|p) = {n \\choose x}p^x(1-p)^{n-x}I\\{x \\in 0,1,...,n\\}x$$"
   ]
  },
  {
   "cell_type": "code",
   "execution_count": 21,
   "metadata": {},
   "outputs": [
    {
     "data": {
      "text/plain": [
       "0.5120000000000001"
      ]
     },
     "execution_count": 21,
     "metadata": {},
     "output_type": "execute_result"
    }
   ],
   "source": [
    "def fact(x):\n",
    "    xf = 1\n",
    "    while x>1:\n",
    "        xf = xf * x\n",
    "        x = x-1\n",
    "    return xf\n",
    "\n",
    "def choose(n,x):\n",
    "    nx=n-x\n",
    "    r = fact(n)/(fact(x)*fact(nx))\n",
    "    return r\n",
    "\n",
    "n=3\n",
    "x=0\n",
    "p = 0.2\n",
    "P = choose(n,x) * p**x * (1-p)**(n-x) * (1 if x in [0,1,2,3] else 0)\n",
    "P"
   ]
  },
  {
   "cell_type": "markdown",
   "metadata": {},
   "source": [
    "Calculate $P(X \\leq 2)$"
   ]
  },
  {
   "cell_type": "code",
   "execution_count": 22,
   "metadata": {},
   "outputs": [
    {
     "data": {
      "text/plain": [
       "0.9920000000000002"
      ]
     },
     "execution_count": 22,
     "metadata": {},
     "output_type": "execute_result"
    }
   ],
   "source": [
    "def bin_prob(n,x,p):\n",
    "    l = [num for num in range(0,n+1)]\n",
    "    P = choose(n,x) * p**x * (1-p)**(n-x) * (1 if x in l else 0)\n",
    "    return P\n",
    "\n",
    "bin_prob(3,0,0.2) + bin_prob(3,1,0.2) + bin_prob(3,2,0.2)"
   ]
  },
  {
   "cell_type": "markdown",
   "metadata": {},
   "source": [
    "## Uniform distribution over a range of 0 to 1\n",
    "\n",
    "For continuous variables: math gets more complicated, requires calculus.\n",
    "\n",
    "Define a continuous random variable based on its probability density function: PDF. Kind of analagous to the probability that the random variable will take a given value - but because it's continuous, it is really the probability that it will take a value in a given interval.\n",
    "\n",
    "If you integrate a PDF over a given interval, it gives you the probability that the random variable will be in that interval.\n",
    "\n",
    "$X \\sim U[0,1]$ X is uniformely distributed between 0 and 1. They're all equally likely (hence uniform)\n",
    "\n",
    "The PDF can be written: $$f(x) = \\{ 1 if x \\in [0,1], 0 \\text{ otherwise}$$\n",
    "\n",
    "or as an indicator function:\n",
    "\n",
    "$$ f(X) = I_{\\{0 \\leq\\ x \\leq 1\\}}x $$"
   ]
  },
  {
   "cell_type": "code",
   "execution_count": 23,
   "metadata": {},
   "outputs": [
    {
     "data": {
      "text/plain": [
       "<Figure size 1700x700 with 1 Axes>"
      ]
     },
     "metadata": {},
     "output_type": "display_data"
    }
   ],
   "source": [
    "import matplotlib.pyplot as plt\n",
    "plt.rcParams['figure.figsize'] = [17, 7]\n",
    "import numpy as np\n",
    "\n",
    "data = np.random.uniform(0,1,100000) # You are generating 1000 points between 0 and 1.\n",
    "count, bins, ignored = plt.hist(data, 20, facecolor='green') \n",
    "\n",
    "plt.xlabel('X~U[0,1]')\n",
    "plt.ylabel('Count')\n",
    "plt.title(\"Uniform Distribution Histogram (Bin size 20)\")\n",
    "plt.axis([0, 1.3, 0, 10000]) # x_start, x_end, y_start, y_end\n",
    "plt.grid(True)\n",
    "\n",
    "plt.show()"
   ]
  },
  {
   "cell_type": "markdown",
   "metadata": {},
   "source": [
    "So what is the probability that x is between 0 and 0.5? Just integrate the PDF.\n",
    "\n",
    "$$P(0 \\lt x \\lt 1/2) = \\int_0^{1/2} f(x) dx =  \\int_0^{1/2} dx = 1/2$$\n",
    "\n",
    "(Note: doesn't matter whether it's $\\lt$ or $\\leq$, same answer. Likewise $P(x=1/2) = 0$)"
   ]
  },
  {
   "cell_type": "markdown",
   "metadata": {},
   "source": [
    "### Key rules\n",
    "$$\\int_{-\\infty}^\\infty f(x) dx = 1$$\n",
    "\n",
    "$$f(x) \\geq 0$$\n",
    "\n",
    "### Expected Value\n",
    "$$E[X] = \\int_{-\\infty}^\\infty xf(x)dx$$\n",
    "\n",
    "in general\n",
    "\n",
    "$$E[g(X)] =  \\int_{-\\infty}^\\infty g(x)f(x)dx$$\n",
    "\n",
    "$$E[cX] =  cE[X]$$\n",
    "\n",
    "$$ E[X+Y] = E[X] + E[Y] $$\n",
    "\n",
    "$$ \\text{if } x \\perp y \\text{ then } E[XY]=E[X]E[Y]$$\n",
    "\n",
    "($\\perp$ means is independent of)\n"
   ]
  },
  {
   "cell_type": "markdown",
   "metadata": {},
   "source": [
    "#### Miniquiz\n",
    "If $X \\sim \\text{Uniform}(0,1)$, then what is the value of $P(0.2 \\le X \\le 0.8)$?\n",
    "\n",
    "$$P(0.2 \\le X \\le 0.8) = \\int_{0.2}^{0.8} dx = 0.8-0.2 = 0.6$$"
   ]
  },
  {
   "cell_type": "markdown",
   "metadata": {},
   "source": [
    "If $X \\sim \\text{Uniform}(0,1)$, then the PDF of $X$ is $f(x)=I_{\\{0 \\le x \\le 1\\}}(x)$. Which of the following expressions could we use to calculate $E(X^2)$\n",
    "\n",
    "$$E[g(X)] =  \\int_{-\\infty}^\\infty g(x)f(x)dx$$\n",
    "\n",
    "$$E[g(X)] =  \\int_{-\\infty}^\\infty x^2I_{\\{0 \\le x \\le 1\\}}(x)dx = \\int_{0}^1 x^2dx $$\n"
   ]
  },
  {
   "cell_type": "markdown",
   "metadata": {},
   "source": [
    "## Exponential distribution\n",
    "\n",
    "\n",
    "$X \\sim Exp(\\lambda)$\n",
    "\n",
    "This describes events that are occuring at a particular rate. Lambda is the rate parameter. This is particularly true for events coming from a Poisson process.\n",
    "\n",
    "$f(x|\\lambda) = \\lambda e^{-\\lambda x}$ for $x \\geq 0$\n",
    "\n",
    "$E[X] = \\frac{1}{\\lambda}$\n",
    "\n",
    "$Var(X) =  \\frac{1}{\\lambda^2}$"
   ]
  },
  {
   "cell_type": "code",
   "execution_count": 24,
   "metadata": {
    "scrolled": false
   },
   "outputs": [
    {
     "data": {
      "image/png": "[encoded data removed]",
      "text/plain": [
       "<Figure size 432x288 with 1 Axes>"
      ]
     },
     "metadata": {
      "needs_background": "light"
     },
     "output_type": "display_data"
    }
   ],
   "source": [
    "x = []\n",
    "i = 0\n",
    "while i <= 10:\n",
    "    x.append(i)\n",
    "    i = round(i+0.01,2)\n",
    "\n",
    "l = (1/3)\n",
    "\n",
    "y = []\n",
    "for val in x:\n",
    "    yval = l*np.exp(-l*val)\n",
    "    y.append(yval)\n",
    "\n",
    "plt.plot(x,y)\n",
    "plt.show()"
   ]
  },
  {
   "cell_type": "markdown",
   "metadata": {},
   "source": [
    "## Uniform with unknown endpoints\n",
    "\n",
    "$X \\sim [\\theta_1, \\theta_2]$\n",
    "\n",
    "$f(X|\\theta_1, \\theta_2) = \\frac{1}{ \\theta_2 -  \\theta_1}I_{\\{\\theta_1 \\leq x \\leq \\theta_2\\}}x$"
   ]
  },
  {
   "cell_type": "code",
   "execution_count": 25,
   "metadata": {
    "scrolled": false
   },
   "outputs": [
    {
     "data": {
      "image/png": "[encoded data removed]",
      "text/plain": [
       "<Figure size 432x288 with 1 Axes>"
      ]
     },
     "metadata": {
      "needs_background": "light"
     },
     "output_type": "display_data"
    }
   ],
   "source": [
    "def uniform(x_list, t1, t2):\n",
    "    a = 1/(t2-t1)\n",
    "    y=[]\n",
    "    for xval in x_list:\n",
    "        yval = 0\n",
    "        if xval >= t1 and xval <= t2:\n",
    "            yval = a\n",
    "        y.append(yval)\n",
    "    \n",
    "    return y\n",
    "\n",
    "# uniform(x,0,1)\n",
    "    \n",
    "plt.plot(x, uniform(x, 2, 5))\n",
    "plt.show()"
   ]
  },
  {
   "cell_type": "markdown",
   "metadata": {},
   "source": [
    "## Normal / Gaussian distribution\n",
    "\n",
    "$X \\sim N(\\mu, \\sigma^2)$\n",
    "\n",
    "$f(x|\\mu, \\sigma^2) = \\frac{1}{\\sqrt{2 \\pi \\sigma^2}} \\text{exp}\\left[\\frac{-1}{2\\sigma^2}(x-\\mu)^2\\right]$\n",
    "\n",
    "$E[X] = \\mu$\n",
    "\n",
    "$Var(X) = \\sigma^2$"
   ]
  },
  {
   "cell_type": "code",
   "execution_count": 26,
   "metadata": {},
   "outputs": [
    {
     "data": {
      "image/png": "[encoded data removed]",
      "text/plain": [
       "<Figure size 432x288 with 1 Axes>"
      ]
     },
     "metadata": {
      "needs_background": "light"
     },
     "output_type": "display_data"
    }
   ],
   "source": [
    "def gaussian(list, mu, sigsq):\n",
    "    y = []\n",
    "    a = 1/(np.sqrt(2*np.pi*sigsq))\n",
    "    b = 1/(2*sigsq)\n",
    "    for xval in list:\n",
    "        c = (xval-mu)**2\n",
    "        yval = a * np.exp(-b*c)\n",
    "        y.append(yval)\n",
    "    return y\n",
    "\n",
    "plt.plot(x, gaussian(x, 5, 1))\n",
    "plt.show()"
   ]
  },
  {
   "cell_type": "markdown",
   "metadata": {},
   "source": [
    "### Quiz\n",
    "\n",
    "1. If continuous random variable $X$ has probability density function (PDF) $f(x)$, what is the interpretation of the following integral: \n",
    "\n",
    "$\\int_{-2}^5 f(x)dx$\n",
    "\n",
    "$P(X≥−2 \\cap X≤5)$\n",
    "\n"
   ]
  },
  {
   "cell_type": "markdown",
   "metadata": {},
   "source": [
    "2. If $X \\sim \\text{Uniform}(0,1)$, then what is the value of $P(-3 < X < 0.2)$?\n",
    "\n",
    "equivalent to $P(0 < X < 0.2) = 0.2$\n",
    "\n",
    "3. If $X \\sim \\text{Exponential}(5)$, find the expected value $E(X)$. (Round your answer to one decimal place.)\n",
    "\n",
    "$E[X] = 1/\\lambda = 1/5$"
   ]
  },
  {
   "cell_type": "code",
   "execution_count": 27,
   "metadata": {},
   "outputs": [
    {
     "data": {
      "text/plain": [
       "0.2"
      ]
     },
     "execution_count": 27,
     "metadata": {},
     "output_type": "execute_result"
    }
   ],
   "source": [
    "1/5"
   ]
  },
  {
   "cell_type": "markdown",
   "metadata": {},
   "source": [
    "Which of the following scenarios could we most appropriately model using an exponentially distributed random variable?\n",
    "\n",
    "* **The probability of a light bulb failure before 100 hours in service**\n",
    "* The hours of service until all light bulbs in a batch of 5000 fail\n",
    "* The lifetime in hours of a particular lightbulb\n",
    "* The number of failed lightbulbs in a batch of 5000 after 100 hours in service\n",
    "\n",
    "\n",
    "If $X \\sim \\text{Uniform}(2,6)$, what is $P(2 < X \\le 3)$? Round your answer to two decimal places.\n",
    "\n",
    "$$ P(2 < X \\le 3) = \\int_2^3 \\frac{1}{6-2} I\\{2 \\leq x \\leq 6\\}x dx= \\int_2^3 \\frac{1}{4} dx$$"
   ]
  },
  {
   "cell_type": "code",
   "execution_count": 28,
   "metadata": {},
   "outputs": [
    {
     "data": {
      "text/plain": [
       "0.25"
      ]
     },
     "execution_count": 28,
     "metadata": {},
     "output_type": "execute_result"
    }
   ],
   "source": [
    "(1/4)*3 - (1/4)*2"
   ]
  },
  {
   "cell_type": "markdown",
   "metadata": {},
   "source": [
    "If $X \\sim \\text{N}(2, 1)$, what is the $E(-5X)$."
   ]
  },
  {
   "cell_type": "markdown",
   "metadata": {},
   "source": [
    "$E(cX) = cE(X) = -5 \\cdot 2 = -10$"
   ]
  },
  {
   "cell_type": "markdown",
   "metadata": {},
   "source": [
    "Let $X \\sim \\text{N}(1, 1)$ and $Y \\sim \\text{N}(4, 3^2)$. What is the value of $E(X+Y)$?"
   ]
  },
  {
   "cell_type": "markdown",
   "metadata": {},
   "source": [
    "$$E[X+Y] = E[X] + E[Y]$$\n",
    "\n",
    "$$E[X] = 1$$, $$E[Y] = 4$$, $$E[X+Y] = 1+4 = 5$$"
   ]
  },
  {
   "cell_type": "markdown",
   "metadata": {},
   "source": [
    "The normal distribution is also linear in the sense that if $X \\sim \\text{N}(\\mu, \\sigma^2)$, then for any real constants $a \\ne 0$ and $b$, the distribution of $Y = aX + b$ is distributed $\\text{N}(a\\mu + b, a^2\\sigma^2)$\n",
    "\n",
    "Using this fact, what is the distribution of $Z = \\frac{X-\\mu}{\\sigma}$?"
   ]
  },
  {
   "cell_type": "markdown",
   "metadata": {},
   "source": [
    "$$\\frac{X-\\mu}{\\sigma} = \\frac{X}{\\sigma} - \\frac{\\mu}{\\sigma}$$\n",
    "\n",
    "here $a = \\frac{1}{\\sigma}$, and $b = \\frac{-\\mu}{\\sigma}$, so"
   ]
  },
  {
   "cell_type": "markdown",
   "metadata": {},
   "source": [
    "$$Z \\sim N \\left( \\frac{1}{\\sigma}\\mu - \\frac{\\mu}{\\sigma} , \\frac{1}{\\sigma^2}\\sigma^2 \\right)$$"
   ]
  },
  {
   "cell_type": "markdown",
   "metadata": {},
   "source": [
    "$$Z \\sim N \\left( \\frac{\\mu}{\\sigma} - \\frac{\\mu}{\\sigma} , \\frac{\\sigma^2}{\\sigma^2} \\right)$$"
   ]
  },
  {
   "cell_type": "markdown",
   "metadata": {},
   "source": [
    "$$Z \\sim N \\left( 0, 1 \\right)$$"
   ]
  },
  {
   "cell_type": "markdown",
   "metadata": {},
   "source": [
    "## Lesson 3 supplemental material\n",
    "\n",
    "### Indicator functions\n",
    "As we saw, they take value 1 if the argument is true, 0 if false. They are useful for short circuiting evaluations if they would result in an error (like taking the log of a negative number)."
   ]
  },
  {
   "cell_type": "markdown",
   "metadata": {},
   "source": [
    "For integrals they impact/limit the range of evaluation. Integrating over the PDF of the exponential distribution gives\n",
    "\n",
    "$$\\int_{-\\infty}^\\infty \\lambda e^{-\\lambda x} I_{\\{ x \\geq 0 \\}} \\left(x \\right) dx = \\int_{0}^\\infty \\lambda e^{-\\lambda x} dx$$\n",
    "\n",
    "$$=\\left[ -e^{-\\lambda x} \\right]_0^\\infty = (-0)-(-1) = 1$$"
   ]
  },
  {
   "cell_type": "markdown",
   "metadata": {},
   "source": [
    "For derivatives they 'go along for the ride' \n",
    "\n",
    "$$ \\frac{d}{dy} \\lambda e^{-\\lambda x} I_{\\{ x \\geq 0 \\}} \\left(x \\right) = $$\n"
   ]
  },
  {
   "cell_type": "markdown",
   "metadata": {},
   "source": [
    "$$ - \\lambda^2 e^{- \\lambda x} I_{\\{ x \\geq 0 \\}} \\left(x \\right) $$"
   ]
  },
  {
   "cell_type": "markdown",
   "metadata": {},
   "source": [
    "### Expected values\n",
    "aka the expectation or **mean**. It is the weighted (by probability) average of all possible values of X.\n",
    "\n",
    "If $X$ is discrete then\n",
    "\n",
    "$$E(X) = \\sum_x x \\cdot P(X=x) = \\sum_x x \\cdot f(x) $$"
   ]
  },
  {
   "cell_type": "markdown",
   "metadata": {},
   "source": [
    "If $X$ is continuous then replace the summation with an integral\n",
    "\n",
    "$$ E(X) = \\int_{-\\infty}^\\infty x \\cdot f \\left( x \\right) dx $$"
   ]
  },
  {
   "cell_type": "markdown",
   "metadata": {},
   "source": [
    "#### Computation of EV for linear functions of random variables\n",
    "Is easy, as we saw in the quiz (assuming you've not forgotton how to do basic algebra, muppet)\n",
    "\n",
    "If $X$ and $Y$ are random variables with $E(X) = \\mu_x$ and $E(Y) = \\mu_y$, and if $Z = aX + bY + c$, then\n",
    "\n",
    "$$E(Z) = E(aX + bY + C) = aE(X) + bE(Y) + c = a \\mu_x + b \\mu_y + c $$"
   ]
  },
  {
   "cell_type": "markdown",
   "metadata": {},
   "source": [
    "### Variance\n",
    "\n",
    "Measures how spread out the values of a random variable are. if $E(X) = \\mu$, then the variance is $E[(X-\\mu)^2]$\n",
    "\n",
    "In words, the variance is the expected value of the distance of X from its mean, squared.\n",
    "\n",
    "For discrete:\n",
    "$$Var(X) = \\sum_x (x-\\mu)^2 \\cdot P(X=x)$$\n",
    "\n",
    "For continuous:\n",
    "$$Var(X) = \\int_{-\\infty}^\\infty (x-\\mu)^2 \\cdot f\\left(x \\right) dx$$\n",
    "\n",
    "For both, $Var(X) = E[X^2] - [E(X)]^2$\n",
    "\n",
    "For linear functions it has similar properties to the EV."
   ]
  },
  {
   "cell_type": "markdown",
   "metadata": {},
   "source": [
    "### t Distribution\n",
    "If we take the average of $n$ independent and idendically distributed $(iid)$ normal random variables\n",
    "\n",
    "$$\\overline{\\rm X}= \\frac{1}{n} \\sum_{i=1}^n X_i$$\n",
    "\n",
    "where $X_i \\text{ iid}\\sim N(\\mu, \\sigma^2)$ for $i = 1,2,\\dots,n$ then\n",
    "\n",
    "$$ \\overline{\\rm X} \\sim N\\left( \\mu, \\frac{\\sigma^2}{n} \\right)$$"
   ]
  },
  {
   "cell_type": "markdown",
   "metadata": {},
   "source": [
    "Using this we can estimate $\\mu$ by reversing the transformation from the previous section:\n",
    "\n",
    "$$ \\frac{\\overline{\\rm X} - \\mu}{\\sigma / \\sqrt{n}} \\sim N(0,1) $$"
   ]
  },
  {
   "cell_type": "markdown",
   "metadata": {},
   "source": [
    "And estimating $\\sigma$ with\n",
    "\n",
    "$$ S = \\sqrt{\\sum_i \\left( X_i - \\overline{\\rm X}\\right)^2/(n-1)} $$\n",
    "\n",
    "where $S$ is the sample standard deviation\n",
    "\n",
    "This results in the above formula becoming:\n",
    "\n",
    "$$ \\frac{\\overline{\\rm X} - \\mu}{S / \\sqrt{n}} \\sim N(0,1) $$"
   ]
  },
  {
   "cell_type": "markdown",
   "metadata": {},
   "source": [
    "This is no longer normally distributed, but is now a standard t distribution with $\\nu = n-1$ degrees of freedom\n",
    "\n",
    "$$Y \\sim t_\\nu$$\n",
    "\n",
    "$$ f(y) = \\frac{\\Gamma\\left(\\frac{\\nu+1}{2}\\right)}{\\Gamma\\left(\\frac{\\nu}{2}\\right)\\sqrt{\\nu\\pi}}\\left(1+\\frac{y^2}{\\nu}\\right)^{-\\frac{\\nu+1}{2}}$$\n",
    "\n",
    "$$ E[Y] = 0 \\text{ if } \\nu \\gt 1$$\n",
    "\n",
    "$$\\text{Var}[Y] = \\frac{\\nu}{\\nu-2} \\text{ if } \\nu \\gt 2$$"
   ]
  },
  {
   "cell_type": "markdown",
   "metadata": {},
   "source": [
    "The t distribution is symmetric and looks like the normal distribution but with thicker tails. As $\\nu$ increases it looks more like the standard normal distribution."
   ]
  },
  {
   "cell_type": "markdown",
   "metadata": {},
   "source": [
    "### Central Limit Theorem\n",
    "\n",
    "One of the most important things in stats, the CLT says that with big enough sample sizes the sample average is approximately normal.\n",
    "\n",
    "Lets you buy a bag of cookies, with each bag having 24 cookies. Will each cookie have te same number of chocolate chips? It will closely follow a Poisson distribution, with lots of variation. You can model the number of chips per cookie with a poisson distribution."
   ]
  },
  {
   "cell_type": "markdown",
   "metadata": {},
   "source": [
    "Recall if $X \\sim Pois(\\lambda)$\n",
    "\n",
    "$$f(x|\\lambda) = \\frac{\\lambda^x e^{-\\lambda}}{x!} \\text{ for } x = 0,1,2...$$\n",
    "\n",
    "$$E[X] = \\lambda$$\n",
    "\n",
    "$$\\text{}Var[X] = \\lambda$$"
   ]
  },
  {
   "cell_type": "code",
   "execution_count": 29,
   "metadata": {
    "scrolled": true
   },
   "outputs": [],
   "source": [
    "# Poisson probability generator\n",
    "def poisson(xlist, lam):\n",
    "    y = []\n",
    "    for xval in xlist:\n",
    "        yval = (lam**xval * np.exp(-lam))/fact(xval)\n",
    "        y.append(yval)\n",
    "    return y\n",
    "\n",
    "def cumulate(ylist):\n",
    "    cum_y = []\n",
    "    cum_y_val = 0\n",
    "    for yval in ylist:\n",
    "        cum_y_val = cum_y_val + yval\n",
    "        cum_y.append(cum_y_val)\n",
    "    return cum_y\n",
    "\n",
    "def png(xlist, cum_y):\n",
    "    rand = np.random.uniform(0,1)\n",
    "    chips=0\n",
    "    for i in range(0,len(cum_y)):\n",
    "        if rand >= cum_y[i]:\n",
    "            chips = x[i+1]\n",
    "    return chips\n",
    "\n",
    "def png_test(xlist, cum_y, no):\n",
    "    tests = []\n",
    "    for i in range(0, no):\n",
    "        chips = png(xlist, cum_y)\n",
    "        tests.append(chips)\n",
    "    return tests\n"
   ]
  },
  {
   "cell_type": "code",
   "execution_count": 30,
   "metadata": {},
   "outputs": [
    {
     "data": {
      "image/png": "[encoded data removed]",
      "text/plain": [
       "<Figure size 432x288 with 1 Axes>"
      ]
     },
     "metadata": {
      "needs_background": "light"
     },
     "output_type": "display_data"
    }
   ],
   "source": [
    "# A poisson distribution with lambda (i.e expected number of chips per cookie) 10\n",
    "x = [num for num in range(0,40)]\n",
    "lam = 10\n",
    "y = poisson(x,lam)\n",
    "cum_y = cumulate(y)\n",
    "\n",
    "plt.plot(x, y)\n",
    "plt.show()"
   ]
  },
  {
   "cell_type": "code",
   "execution_count": 31,
   "metadata": {},
   "outputs": [
    {
     "data": {
      "image/png": "[encoded data removed]",
      "text/plain": [
       "<Figure size 432x288 with 1 Axes>"
      ]
     },
     "metadata": {
      "needs_background": "light"
     },
     "output_type": "display_data"
    }
   ],
   "source": [
    "\n",
    "means = []\n",
    "sd = []\n",
    "for i in range(0,100000):\n",
    "    test = png_test(x, cum_y, 25)\n",
    "    means.append(np.mean(test))\n",
    "    sd.append(np.std(test))\n",
    "    \n",
    "import pandas as pd\n",
    "df = pd.DataFrame({'mean':means,'std':sd})\n",
    "df['mean'].plot(kind='kde',xlim = [6,14])\n",
    "plt.show()"
   ]
  },
  {
   "cell_type": "code",
   "execution_count": 32,
   "metadata": {},
   "outputs": [
    {
     "name": "stdout",
     "output_type": "stream",
     "text": [
      "sample mean: 9.999251 SSD: 0.631142 StdErr: 0.001996\n"
     ]
    },
    {
     "data": {
      "image/png": "[encoded data removed]",
      "text/plain": [
       "<Figure size 432x288 with 1 Axes>"
      ]
     },
     "metadata": {
      "needs_background": "light"
     },
     "output_type": "display_data"
    }
   ],
   "source": [
    "# overlay normal distribution\n",
    "sample_mean = np.mean(means)\n",
    "\n",
    "sum = 0\n",
    "for val in means:\n",
    "    sum = sum + (val-sample_mean)**2\n",
    "\n",
    "sum = sum/(len(means)-1)\n",
    "sample_standard_deviation = np.sqrt(sum)\n",
    "standard_error = sample_standard_deviation/np.sqrt(len(means))\n",
    "\n",
    "print('sample mean: %f SSD: %f StdErr: %f' % (sample_mean, sample_standard_deviation, standard_error))\n",
    "x = []\n",
    "i = 6\n",
    "while i <= 14:\n",
    "    x.append(i)\n",
    "    i = round(i+0.01,2)\n",
    "\n",
    "plt.plot(x, gaussian(x, sample_mean, sample_standard_deviation))\n",
    "plt.show()\n"
   ]
  },
  {
   "cell_type": "markdown",
   "metadata": {},
   "source": [
    "... Looks...sort of normal...tails are a bit skinnier\n",
    "\n",
    "Still don't really understand this."
   ]
  }
 ],
 "metadata": {
  "kernelspec": {
   "display_name": "Python 3",
   "language": "python",
   "name": "python3"
  },
  "language_info": {
   "codemirror_mode": {
    "name": "ipython",
    "version": 3
   },
   "file_extension": ".py",
   "mimetype": "text/x-python",
   "name": "python",
   "nbconvert_exporter": "python",
   "pygments_lexer": "ipython3",
   "version": "3.7.1"
  }
 },
 "nbformat": 4,
 "nbformat_minor": 2
}
